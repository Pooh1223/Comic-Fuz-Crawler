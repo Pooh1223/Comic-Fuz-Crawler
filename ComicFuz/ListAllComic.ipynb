{
 "cells": [
  {
   "cell_type": "code",
   "execution_count": 2,
   "metadata": {
    "scrolled": false
   },
   "outputs": [
    {
     "name": "stdout",
     "output_type": "stream",
     "text": [
      "https://comic-fuz.com/series/1\n",
      "1  : \n",
      "週刊漫画ＴＩＭＥＳ　２０２０年１／２４号\n",
      "image url : https://d2x5f4aekiektw.cloudfront.net/fuz/products/thumbnails/20317/original/Z00001-z-047.jpg?1578298331\n"
     ]
    },
    {
     "data": {
      "text/html": [
       "<img src=\"https://d2x5f4aekiektw.cloudfront.net/fuz/products/thumbnails/20317/original/Z00001-z-047.jpg?1578298331\" width=\"150\" height=\"215\"/>"
      ],
      "text/plain": [
       "<IPython.core.display.Image object>"
      ]
     },
     "metadata": {},
     "output_type": "display_data"
    },
    {
     "name": "stdout",
     "output_type": "stream",
     "text": [
      "2  : \n",
      "週刊漫画ＴＩＭＥＳ　２０２０年１／１０・１７合併号\n",
      "image url : https://d2x5f4aekiektw.cloudfront.net/fuz/products/thumbnails/19877/original/Z00001-z-046.jpg?1577177896\n"
     ]
    },
    {
     "data": {
      "text/html": [
       "<img src=\"https://d2x5f4aekiektw.cloudfront.net/fuz/products/thumbnails/19877/original/Z00001-z-046.jpg?1577177896\" width=\"150\" height=\"215\"/>"
      ],
      "text/plain": [
       "<IPython.core.display.Image object>"
      ]
     },
     "metadata": {},
     "output_type": "display_data"
    },
    {
     "name": "stdout",
     "output_type": "stream",
     "text": [
      "3  : \n",
      "週刊漫画ＴＩＭＥＳ　２０２０年１／３号\n",
      "image url : https://d2x5f4aekiektw.cloudfront.net/fuz/products/thumbnails/19856/original/Z00001-z-045.jpg?1576736801\n"
     ]
    },
    {
     "data": {
      "text/html": [
       "<img src=\"https://d2x5f4aekiektw.cloudfront.net/fuz/products/thumbnails/19856/original/Z00001-z-045.jpg?1576736801\" width=\"150\" height=\"215\"/>"
      ],
      "text/plain": [
       "<IPython.core.display.Image object>"
      ]
     },
     "metadata": {},
     "output_type": "display_data"
    },
    {
     "name": "stdout",
     "output_type": "stream",
     "text": [
      "4  : \n",
      "週刊漫画ＴＩＭＥＳ　２０１９年１２／２７号\n",
      "image url : https://d2x5f4aekiektw.cloudfront.net/fuz/products/thumbnails/19428/original/Z00001-z-044.jpg?1575880605\n"
     ]
    },
    {
     "data": {
      "text/html": [
       "<img src=\"https://d2x5f4aekiektw.cloudfront.net/fuz/products/thumbnails/19428/original/Z00001-z-044.jpg?1575880605\" width=\"150\" height=\"215\"/>"
      ],
      "text/plain": [
       "<IPython.core.display.Image object>"
      ]
     },
     "metadata": {},
     "output_type": "display_data"
    },
    {
     "name": "stdout",
     "output_type": "stream",
     "text": [
      "5  : \n",
      "週刊漫画ＴＩＭＥＳ　２０１９年１２／２０号\n",
      "image url : https://d2x5f4aekiektw.cloudfront.net/fuz/products/thumbnails/19416/original/Z00001-z-043.jpg?1575437251\n"
     ]
    },
    {
     "data": {
      "text/html": [
       "<img src=\"https://d2x5f4aekiektw.cloudfront.net/fuz/products/thumbnails/19416/original/Z00001-z-043.jpg?1575437251\" width=\"150\" height=\"215\"/>"
      ],
      "text/plain": [
       "<IPython.core.display.Image object>"
      ]
     },
     "metadata": {},
     "output_type": "display_data"
    },
    {
     "name": "stdout",
     "output_type": "stream",
     "text": [
      "6  : \n",
      "週刊漫画ＴＩＭＥＳ　２０１９年１２／６・１３合併号\n",
      "image url : https://d2x5f4aekiektw.cloudfront.net/fuz/products/thumbnails/18312/original/Z00001-z-042.jpg?1574238879\n"
     ]
    },
    {
     "data": {
      "text/html": [
       "<img src=\"https://d2x5f4aekiektw.cloudfront.net/fuz/products/thumbnails/18312/original/Z00001-z-042.jpg?1574238879\" width=\"150\" height=\"215\"/>"
      ],
      "text/plain": [
       "<IPython.core.display.Image object>"
      ]
     },
     "metadata": {},
     "output_type": "display_data"
    },
    {
     "name": "stdout",
     "output_type": "stream",
     "text": [
      "7  : \n",
      "週刊漫画ＴＩＭＥＳ　２０１９年１１／２９号\n",
      "image url : https://d2x5f4aekiektw.cloudfront.net/fuz/products/thumbnails/17925/original/Z00001-z-041.jpg?1573719065\n"
     ]
    },
    {
     "data": {
      "text/html": [
       "<img src=\"https://d2x5f4aekiektw.cloudfront.net/fuz/products/thumbnails/17925/original/Z00001-z-041.jpg?1573719065\" width=\"150\" height=\"215\"/>"
      ],
      "text/plain": [
       "<IPython.core.display.Image object>"
      ]
     },
     "metadata": {},
     "output_type": "display_data"
    },
    {
     "name": "stdout",
     "output_type": "stream",
     "text": [
      "8  : \n",
      "週刊漫画ＴＩＭＥＳ　２０１９年１１／２２号\n",
      "image url : https://d2x5f4aekiektw.cloudfront.net/fuz/products/thumbnails/17856/original/Z00001-z-040.jpg?1573121821\n"
     ]
    },
    {
     "data": {
      "text/html": [
       "<img src=\"https://d2x5f4aekiektw.cloudfront.net/fuz/products/thumbnails/17856/original/Z00001-z-040.jpg?1573121821\" width=\"150\" height=\"215\"/>"
      ],
      "text/plain": [
       "<IPython.core.display.Image object>"
      ]
     },
     "metadata": {},
     "output_type": "display_data"
    },
    {
     "name": "stdout",
     "output_type": "stream",
     "text": [
      "9  : \n",
      "週刊漫画ＴＩＭＥＳ　２０１９年１１／１５号\n",
      "image url : https://d2x5f4aekiektw.cloudfront.net/fuz/products/thumbnails/17398/original/Z00001-z-039.jpg?1572498012\n"
     ]
    },
    {
     "data": {
      "text/html": [
       "<img src=\"https://d2x5f4aekiektw.cloudfront.net/fuz/products/thumbnails/17398/original/Z00001-z-039.jpg?1572498012\" width=\"150\" height=\"215\"/>"
      ],
      "text/plain": [
       "<IPython.core.display.Image object>"
      ]
     },
     "metadata": {},
     "output_type": "display_data"
    },
    {
     "name": "stdout",
     "output_type": "stream",
     "text": [
      "10  : \n",
      "週刊漫画ＴＩＭＥＳ　２０１９年１１／８号\n",
      "image url : https://d2x5f4aekiektw.cloudfront.net/fuz/products/thumbnails/17084/original/Z00001-z-038.jpg?1571800943\n"
     ]
    },
    {
     "data": {
      "text/html": [
       "<img src=\"https://d2x5f4aekiektw.cloudfront.net/fuz/products/thumbnails/17084/original/Z00001-z-038.jpg?1571800943\" width=\"150\" height=\"215\"/>"
      ],
      "text/plain": [
       "<IPython.core.display.Image object>"
      ]
     },
     "metadata": {},
     "output_type": "display_data"
    },
    {
     "name": "stdout",
     "output_type": "stream",
     "text": [
      "finish\n",
      "https://comic-fuz.com/series/2\n",
      "11  : \n",
      "まんがタイムきらら　２０２０年２月号\n",
      "image url : https://d2x5f4aekiektw.cloudfront.net/fuz/products/thumbnails/20318/original/Z00002-z-013.jpg?1578303602\n"
     ]
    },
    {
     "data": {
      "text/html": [
       "<img src=\"https://d2x5f4aekiektw.cloudfront.net/fuz/products/thumbnails/20318/original/Z00002-z-013.jpg?1578303602\" width=\"150\" height=\"215\"/>"
      ],
      "text/plain": [
       "<IPython.core.display.Image object>"
      ]
     },
     "metadata": {},
     "output_type": "display_data"
    },
    {
     "name": "stdout",
     "output_type": "stream",
     "text": [
      "12  : \n",
      "まんがタイムきらら　２０２０年１月号\n",
      "image url : https://d2x5f4aekiektw.cloudfront.net/fuz/products/thumbnails/19425/original/Z00002-z-012.jpg?1575625428\n"
     ]
    },
    {
     "data": {
      "text/html": [
       "<img src=\"https://d2x5f4aekiektw.cloudfront.net/fuz/products/thumbnails/19425/original/Z00002-z-012.jpg?1575625428\" width=\"150\" height=\"215\"/>"
      ],
      "text/plain": [
       "<IPython.core.display.Image object>"
      ]
     },
     "metadata": {},
     "output_type": "display_data"
    },
    {
     "name": "stdout",
     "output_type": "stream",
     "text": [
      "13  : \n",
      "まんがタイムきらら　２０１９年１２月号\n",
      "image url : https://d2x5f4aekiektw.cloudfront.net/fuz/products/thumbnails/17857/original/Z00002-z-011.jpg?1573199535\n"
     ]
    },
    {
     "data": {
      "text/html": [
       "<img src=\"https://d2x5f4aekiektw.cloudfront.net/fuz/products/thumbnails/17857/original/Z00002-z-011.jpg?1573199535\" width=\"150\" height=\"215\"/>"
      ],
      "text/plain": [
       "<IPython.core.display.Image object>"
      ]
     },
     "metadata": {},
     "output_type": "display_data"
    },
    {
     "name": "stdout",
     "output_type": "stream",
     "text": [
      "finish\n",
      "https://comic-fuz.com/series/3\n",
      "14  : \n",
      "まんがタイムきららＭＡＸ　２０２０年２月号\n",
      "image url : https://d2x5f4aekiektw.cloudfront.net/fuz/products/thumbnails/19847/original/Z00003-z-012.jpg?1576653764\n"
     ]
    },
    {
     "data": {
      "text/html": [
       "<img src=\"https://d2x5f4aekiektw.cloudfront.net/fuz/products/thumbnails/19847/original/Z00003-z-012.jpg?1576653764\" width=\"150\" height=\"215\"/>"
      ],
      "text/plain": [
       "<IPython.core.display.Image object>"
      ]
     },
     "metadata": {},
     "output_type": "display_data"
    },
    {
     "name": "stdout",
     "output_type": "stream",
     "text": [
      "15  : \n",
      "まんがタイムきららＭＡＸ　２０２０年１月号\n",
      "image url : https://d2x5f4aekiektw.cloudfront.net/fuz/products/thumbnails/17927/original/Z00003-z-011.jpg?1574059773\n"
     ]
    },
    {
     "data": {
      "text/html": [
       "<img src=\"https://d2x5f4aekiektw.cloudfront.net/fuz/products/thumbnails/17927/original/Z00003-z-011.jpg?1574059773\" width=\"150\" height=\"215\"/>"
      ],
      "text/plain": [
       "<IPython.core.display.Image object>"
      ]
     },
     "metadata": {},
     "output_type": "display_data"
    },
    {
     "name": "stdout",
     "output_type": "stream",
     "text": [
      "16  : \n",
      "まんがタイムきららＭＡＸ　２０１９年１２月号\n",
      "image url : https://d2x5f4aekiektw.cloudfront.net/fuz/products/thumbnails/16801/original/Z00003-z-010.jpg?1571387234\n"
     ]
    },
    {
     "data": {
      "text/html": [
       "<img src=\"https://d2x5f4aekiektw.cloudfront.net/fuz/products/thumbnails/16801/original/Z00003-z-010.jpg?1571387234\" width=\"150\" height=\"215\"/>"
      ],
      "text/plain": [
       "<IPython.core.display.Image object>"
      ]
     },
     "metadata": {},
     "output_type": "display_data"
    },
    {
     "name": "stdout",
     "output_type": "stream",
     "text": [
      "finish\n",
      "https://comic-fuz.com/series/4\n",
      "17  : \n",
      "まんがタイムきららキャラット　２０２０年２月号\n",
      "image url : https://d2x5f4aekiektw.cloudfront.net/fuz/products/thumbnails/20259/original/Z00004-z-012.jpg?1577351770\n"
     ]
    },
    {
     "data": {
      "text/html": [
       "<img src=\"https://d2x5f4aekiektw.cloudfront.net/fuz/products/thumbnails/20259/original/Z00004-z-012.jpg?1577351770\" width=\"150\" height=\"215\"/>"
      ],
      "text/plain": [
       "<IPython.core.display.Image object>"
      ]
     },
     "metadata": {},
     "output_type": "display_data"
    },
    {
     "name": "stdout",
     "output_type": "stream",
     "text": [
      "18  : \n",
      "まんがタイムきららキャラット　２０２０年１月号\n",
      "image url : https://d2x5f4aekiektw.cloudfront.net/fuz/products/thumbnails/18544/original/Z00004-z-011.jpg?1574760481\n"
     ]
    },
    {
     "data": {
      "text/html": [
       "<img src=\"https://d2x5f4aekiektw.cloudfront.net/fuz/products/thumbnails/18544/original/Z00004-z-011.jpg?1574760481\" width=\"150\" height=\"215\"/>"
      ],
      "text/plain": [
       "<IPython.core.display.Image object>"
      ]
     },
     "metadata": {},
     "output_type": "display_data"
    },
    {
     "name": "stdout",
     "output_type": "stream",
     "text": [
      "19  : \n",
      "まんがタイムきららキャラット　２０１９年１２月号\n",
      "image url : https://d2x5f4aekiektw.cloudfront.net/fuz/products/thumbnails/17088/original/Z00004-z-010.jpg?1572000661\n"
     ]
    },
    {
     "data": {
      "text/html": [
       "<img src=\"https://d2x5f4aekiektw.cloudfront.net/fuz/products/thumbnails/17088/original/Z00004-z-010.jpg?1572000661\" width=\"150\" height=\"215\"/>"
      ],
      "text/plain": [
       "<IPython.core.display.Image object>"
      ]
     },
     "metadata": {},
     "output_type": "display_data"
    },
    {
     "name": "stdout",
     "output_type": "stream",
     "text": [
      "finish\n",
      "https://comic-fuz.com/series/5\n",
      "20  : \n",
      "まんがタイムきららフォワード　２０２０年２月号\n",
      "image url : https://d2x5f4aekiektw.cloudfront.net/fuz/products/thumbnails/19865/original/Z00005-z-012.jpg?1577074332\n"
     ]
    },
    {
     "data": {
      "text/html": [
       "<img src=\"https://d2x5f4aekiektw.cloudfront.net/fuz/products/thumbnails/19865/original/Z00005-z-012.jpg?1577074332\" width=\"150\" height=\"215\"/>"
      ],
      "text/plain": [
       "<IPython.core.display.Image object>"
      ]
     },
     "metadata": {},
     "output_type": "display_data"
    },
    {
     "name": "stdout",
     "output_type": "stream",
     "text": [
      "21  : \n",
      "まんがタイムきららフォワード　２０２０年１月号\n",
      "image url : https://d2x5f4aekiektw.cloudfront.net/fuz/products/thumbnails/18331/original/Z00005-z-011.jpg?1574321354\n"
     ]
    },
    {
     "data": {
      "text/html": [
       "<img src=\"https://d2x5f4aekiektw.cloudfront.net/fuz/products/thumbnails/18331/original/Z00005-z-011.jpg?1574321354\" width=\"150\" height=\"215\"/>"
      ],
      "text/plain": [
       "<IPython.core.display.Image object>"
      ]
     },
     "metadata": {},
     "output_type": "display_data"
    },
    {
     "name": "stdout",
     "output_type": "stream",
     "text": [
      "22  : \n",
      "まんがタイムきららフォワード　２０１９年１２月号\n",
      "image url : https://d2x5f4aekiektw.cloudfront.net/fuz/products/thumbnails/17083/original/Z00005-z-010.jpg?1571800673\n"
     ]
    },
    {
     "data": {
      "text/html": [
       "<img src=\"https://d2x5f4aekiektw.cloudfront.net/fuz/products/thumbnails/17083/original/Z00005-z-010.jpg?1571800673\" width=\"150\" height=\"215\"/>"
      ],
      "text/plain": [
       "<IPython.core.display.Image object>"
      ]
     },
     "metadata": {},
     "output_type": "display_data"
    },
    {
     "name": "stdout",
     "output_type": "stream",
     "text": [
      "finish\n"
     ]
    }
   ],
   "source": [
    "#\n",
    "import tkinter as tk\n",
    "from PIL import ImageTk, Image\n",
    "from functools import partial\n",
    "\n",
    "\n",
    "import time\n",
    "import json\n",
    "import os\n",
    "from selenium import webdriver\n",
    "from selenium.webdriver.common.keys import Keys\n",
    "from selenium.webdriver.common.by import By\n",
    "from selenium.webdriver.support.ui import WebDriverWait\n",
    "from selenium.webdriver.support import expected_conditions as EC\n",
    "from selenium.webdriver.common.action_chains import ActionChains\n",
    "from selenium.webdriver.chrome.options import Options\n",
    "from urllib.parse import unquote\n",
    "import import_ipynb\n",
    "\n",
    "from IPython.display import Image\n",
    "from IPython.core.display import HTML\n",
    "from IPython.core.debugger import set_trace\n",
    "from IPython.display import clear_output as clear\n",
    "\n",
    "from WebLogin import ComicFuzLogin\n",
    "\n",
    "class ListAllComic:\n",
    "    def __init__(self,driver):\n",
    "\n",
    "        self.driver = driver        \n",
    "        self.list_of_readable_manga()\n",
    "        \n",
    "    def add_login_cookie(self):\n",
    "        fc = open('comicFuz.json')\n",
    "        cookie = fc.read()\n",
    "        cookie = json.loads(cookie)\n",
    "\n",
    "        for c in cookie:\n",
    "            if 'expiry' in c:\n",
    "                del c['expiry']\n",
    "            self.driver.add_cookie(c)\n",
    "\n",
    "        self.driver.refresh()\n",
    "        \n",
    "    def list_of_readable_manga(self):\n",
    "        url = 'https://comic-fuz.com/series/'\n",
    "        \n",
    "        self.driver.get(url)\n",
    "        \n",
    "        self.add_login_cookie()\n",
    "        \n",
    "        cnt = 1\n",
    "        readable_link_list = []\n",
    "\n",
    "        for series_num in range(1,6):\n",
    "\n",
    "            if url[-1] == '/':\n",
    "                url += str(series_num)\n",
    "            else :\n",
    "                url = url[:len(url) - 1:]\n",
    "                url += str(series_num)\n",
    "\n",
    "            print(url)\n",
    "            self.driver.get(url)\n",
    "\n",
    "            time.sleep(2)\n",
    "\n",
    "            xpath = '//*[contains(@class,\"list\")]'\n",
    "            comic_table = self.driver.find_element_by_xpath(xpath)\n",
    "            #print(comic_table.get_attribute(\"class\"))\n",
    "            comic_list = comic_table.find_elements_by_tag_name(\"li\")\n",
    "\n",
    "            series_cnt = 0\n",
    "\n",
    "            for item in comic_list:\n",
    "                #check which li is it\n",
    "                series_cnt += 1\n",
    "                #check if it is rented\n",
    "                if '読む' in item.text:\n",
    "                    print(cnt,\" : \")\n",
    "                    cnt += 1\n",
    "\n",
    "                    title = item.find_element_by_class_name(\"title\")\n",
    "                    print(title.text)\n",
    "\n",
    "                    link_path = '/html/body/main/div/div/div/section/div/ul/li[' + str(series_cnt) + ']/div[2]/div[1]/div/a'\n",
    "                    link = item.find_element_by_xpath(link_path)\n",
    "                    readable_link_list.append(link.get_attribute(\"href\"))\n",
    "\n",
    "                    rimg = item.find_element_by_tag_name(\"img\").get_attribute(\"src\")\n",
    "                    print('image url :',rimg)\n",
    "                    display(Image(url = rimg,width = 150,height = 215))\n",
    "            \n",
    "            print('finish')\n",
    "\n",
    "            \n",
    "chrome_options = Options()\n",
    "chrome_options.add_argument('headless')\n",
    "chrome_options.add_argument('hide-scrollbars')\n",
    "\n",
    "driver = webdriver.Chrome(options = chrome_options)\n",
    "driver.delete_all_cookies()\n",
    "\n",
    "lac = ListAllComic(driver)"
   ]
  }
 ],
 "metadata": {
  "kernelspec": {
   "display_name": "Python 3",
   "language": "python",
   "name": "python3"
  },
  "language_info": {
   "codemirror_mode": {
    "name": "ipython",
    "version": 3
   },
   "file_extension": ".py",
   "mimetype": "text/x-python",
   "name": "python",
   "nbconvert_exporter": "python",
   "pygments_lexer": "ipython3",
   "version": "3.7.4"
  }
 },
 "nbformat": 4,
 "nbformat_minor": 2
}
