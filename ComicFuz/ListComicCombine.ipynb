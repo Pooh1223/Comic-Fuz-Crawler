{
 "cells": [
  {
   "cell_type": "code",
   "execution_count": null,
   "metadata": {
    "scrolled": false
   },
   "outputs": [
    {
     "name": "stdout",
     "output_type": "stream",
     "text": [
      "pyimage71\n",
      "https://comic-fuz.com/series/1\n",
      "1  : \n",
      "週刊漫画ＴＩＭＥＳ　２０２０年２／７号\n"
     ]
    },
    {
     "data": {
      "text/html": [
       "<img src=\"https://d2x5f4aekiektw.cloudfront.net/fuz/products/thumbnails/20721/original/Z00001-z-049.jpg?1579588583\" width=\"150\" height=\"215\"/>"
      ],
      "text/plain": [
       "<IPython.core.display.Image object>"
      ]
     },
     "metadata": {},
     "output_type": "display_data"
    },
    {
     "name": "stdout",
     "output_type": "stream",
     "text": [
      "2  : \n",
      "週刊漫画ＴＩＭＥＳ　２０２０年１／３１号\n"
     ]
    },
    {
     "data": {
      "text/html": [
       "<img src=\"https://d2x5f4aekiektw.cloudfront.net/fuz/products/thumbnails/20475/original/Z00001-z-048.jpg?1579151966\" width=\"150\" height=\"215\"/>"
      ],
      "text/plain": [
       "<IPython.core.display.Image object>"
      ]
     },
     "metadata": {},
     "output_type": "display_data"
    },
    {
     "name": "stdout",
     "output_type": "stream",
     "text": [
      "3  : \n",
      "週刊漫画ＴＩＭＥＳ　２０２０年１／２４号\n"
     ]
    },
    {
     "data": {
      "text/html": [
       "<img src=\"https://d2x5f4aekiektw.cloudfront.net/fuz/products/thumbnails/20317/original/Z00001-z-047.jpg?1578298331\" width=\"150\" height=\"215\"/>"
      ],
      "text/plain": [
       "<IPython.core.display.Image object>"
      ]
     },
     "metadata": {},
     "output_type": "display_data"
    },
    {
     "name": "stdout",
     "output_type": "stream",
     "text": [
      "4  : \n",
      "週刊漫画ＴＩＭＥＳ　２０２０年１／１０・１７合併号\n"
     ]
    },
    {
     "data": {
      "text/html": [
       "<img src=\"https://d2x5f4aekiektw.cloudfront.net/fuz/products/thumbnails/19877/original/Z00001-z-046.jpg?1577177896\" width=\"150\" height=\"215\"/>"
      ],
      "text/plain": [
       "<IPython.core.display.Image object>"
      ]
     },
     "metadata": {},
     "output_type": "display_data"
    },
    {
     "name": "stdout",
     "output_type": "stream",
     "text": [
      "5  : \n",
      "週刊漫画ＴＩＭＥＳ　２０２０年１／３号\n"
     ]
    },
    {
     "data": {
      "text/html": [
       "<img src=\"https://d2x5f4aekiektw.cloudfront.net/fuz/products/thumbnails/19856/original/Z00001-z-045.jpg?1576736801\" width=\"150\" height=\"215\"/>"
      ],
      "text/plain": [
       "<IPython.core.display.Image object>"
      ]
     },
     "metadata": {},
     "output_type": "display_data"
    },
    {
     "name": "stdout",
     "output_type": "stream",
     "text": [
      "6  : \n",
      "週刊漫画ＴＩＭＥＳ　２０１９年１２／２７号\n"
     ]
    },
    {
     "data": {
      "text/html": [
       "<img src=\"https://d2x5f4aekiektw.cloudfront.net/fuz/products/thumbnails/19428/original/Z00001-z-044.jpg?1575880605\" width=\"150\" height=\"215\"/>"
      ],
      "text/plain": [
       "<IPython.core.display.Image object>"
      ]
     },
     "metadata": {},
     "output_type": "display_data"
    },
    {
     "name": "stdout",
     "output_type": "stream",
     "text": [
      "7  : \n",
      "週刊漫画ＴＩＭＥＳ　２０１９年１２／２０号\n"
     ]
    },
    {
     "data": {
      "text/html": [
       "<img src=\"https://d2x5f4aekiektw.cloudfront.net/fuz/products/thumbnails/19416/original/Z00001-z-043.jpg?1575437251\" width=\"150\" height=\"215\"/>"
      ],
      "text/plain": [
       "<IPython.core.display.Image object>"
      ]
     },
     "metadata": {},
     "output_type": "display_data"
    },
    {
     "name": "stdout",
     "output_type": "stream",
     "text": [
      "8  : \n",
      "週刊漫画ＴＩＭＥＳ　２０１９年１２／６・１３合併号\n"
     ]
    },
    {
     "data": {
      "text/html": [
       "<img src=\"https://d2x5f4aekiektw.cloudfront.net/fuz/products/thumbnails/18312/original/Z00001-z-042.jpg?1574238879\" width=\"150\" height=\"215\"/>"
      ],
      "text/plain": [
       "<IPython.core.display.Image object>"
      ]
     },
     "metadata": {},
     "output_type": "display_data"
    },
    {
     "name": "stdout",
     "output_type": "stream",
     "text": [
      "9  : \n",
      "週刊漫画ＴＩＭＥＳ　２０１９年１１／２９号\n"
     ]
    },
    {
     "data": {
      "text/html": [
       "<img src=\"https://d2x5f4aekiektw.cloudfront.net/fuz/products/thumbnails/17925/original/Z00001-z-041.jpg?1573719065\" width=\"150\" height=\"215\"/>"
      ],
      "text/plain": [
       "<IPython.core.display.Image object>"
      ]
     },
     "metadata": {},
     "output_type": "display_data"
    },
    {
     "name": "stdout",
     "output_type": "stream",
     "text": [
      "10  : \n",
      "週刊漫画ＴＩＭＥＳ　２０１９年１１／２２号\n"
     ]
    },
    {
     "data": {
      "text/html": [
       "<img src=\"https://d2x5f4aekiektw.cloudfront.net/fuz/products/thumbnails/17856/original/Z00001-z-040.jpg?1573121821\" width=\"150\" height=\"215\"/>"
      ],
      "text/plain": [
       "<IPython.core.display.Image object>"
      ]
     },
     "metadata": {},
     "output_type": "display_data"
    },
    {
     "name": "stdout",
     "output_type": "stream",
     "text": [
      "finish\n",
      "https://comic-fuz.com/series/2\n",
      "11  : \n",
      "まんがタイムきらら　２０２０年２月号\n"
     ]
    },
    {
     "data": {
      "text/html": [
       "<img src=\"https://d2x5f4aekiektw.cloudfront.net/fuz/products/thumbnails/20318/original/Z00002-z-013.jpg?1578303602\" width=\"150\" height=\"215\"/>"
      ],
      "text/plain": [
       "<IPython.core.display.Image object>"
      ]
     },
     "metadata": {},
     "output_type": "display_data"
    },
    {
     "name": "stdout",
     "output_type": "stream",
     "text": [
      "12  : \n",
      "まんがタイムきらら　２０２０年１月号\n"
     ]
    },
    {
     "data": {
      "text/html": [
       "<img src=\"https://d2x5f4aekiektw.cloudfront.net/fuz/products/thumbnails/19425/original/Z00002-z-012.jpg?1575625428\" width=\"150\" height=\"215\"/>"
      ],
      "text/plain": [
       "<IPython.core.display.Image object>"
      ]
     },
     "metadata": {},
     "output_type": "display_data"
    },
    {
     "name": "stdout",
     "output_type": "stream",
     "text": [
      "13  : \n",
      "まんがタイムきらら　２０１９年１２月号\n"
     ]
    },
    {
     "data": {
      "text/html": [
       "<img src=\"https://d2x5f4aekiektw.cloudfront.net/fuz/products/thumbnails/17857/original/Z00002-z-011.jpg?1573199535\" width=\"150\" height=\"215\"/>"
      ],
      "text/plain": [
       "<IPython.core.display.Image object>"
      ]
     },
     "metadata": {},
     "output_type": "display_data"
    },
    {
     "name": "stdout",
     "output_type": "stream",
     "text": [
      "finish\n",
      "https://comic-fuz.com/series/3\n",
      "14  : \n",
      "まんがタイムきららＭＡＸ　２０２０年３月号\n"
     ]
    },
    {
     "data": {
      "text/html": [
       "<img src=\"https://d2x5f4aekiektw.cloudfront.net/fuz/products/thumbnails/20696/original/Z00003-z-013.jpg?1579166389\" width=\"150\" height=\"215\"/>"
      ],
      "text/plain": [
       "<IPython.core.display.Image object>"
      ]
     },
     "metadata": {},
     "output_type": "display_data"
    },
    {
     "name": "stdout",
     "output_type": "stream",
     "text": [
      "15  : \n",
      "まんがタイムきららＭＡＸ　２０２０年２月号\n"
     ]
    },
    {
     "data": {
      "text/html": [
       "<img src=\"https://d2x5f4aekiektw.cloudfront.net/fuz/products/thumbnails/19847/original/Z00003-z-012.jpg?1576653764\" width=\"150\" height=\"215\"/>"
      ],
      "text/plain": [
       "<IPython.core.display.Image object>"
      ]
     },
     "metadata": {},
     "output_type": "display_data"
    },
    {
     "name": "stdout",
     "output_type": "stream",
     "text": [
      "16  : \n",
      "まんがタイムきららＭＡＸ　２０２０年１月号\n"
     ]
    },
    {
     "data": {
      "text/html": [
       "<img src=\"https://d2x5f4aekiektw.cloudfront.net/fuz/products/thumbnails/17927/original/Z00003-z-011.jpg?1574059773\" width=\"150\" height=\"215\"/>"
      ],
      "text/plain": [
       "<IPython.core.display.Image object>"
      ]
     },
     "metadata": {},
     "output_type": "display_data"
    },
    {
     "name": "stdout",
     "output_type": "stream",
     "text": [
      "finish\n",
      "https://comic-fuz.com/series/4\n",
      "17  : \n",
      "まんがタイムきららキャラット　２０２０年２月号\n"
     ]
    },
    {
     "data": {
      "text/html": [
       "<img src=\"https://d2x5f4aekiektw.cloudfront.net/fuz/products/thumbnails/20259/original/Z00004-z-012.jpg?1577351770\" width=\"150\" height=\"215\"/>"
      ],
      "text/plain": [
       "<IPython.core.display.Image object>"
      ]
     },
     "metadata": {},
     "output_type": "display_data"
    },
    {
     "name": "stdout",
     "output_type": "stream",
     "text": [
      "18  : \n",
      "まんがタイムきららキャラット　２０２０年１月号\n"
     ]
    },
    {
     "data": {
      "text/html": [
       "<img src=\"https://d2x5f4aekiektw.cloudfront.net/fuz/products/thumbnails/18544/original/Z00004-z-011.jpg?1574760481\" width=\"150\" height=\"215\"/>"
      ],
      "text/plain": [
       "<IPython.core.display.Image object>"
      ]
     },
     "metadata": {},
     "output_type": "display_data"
    },
    {
     "name": "stdout",
     "output_type": "stream",
     "text": [
      "19  : \n",
      "まんがタイムきららキャラット　２０１９年１２月号\n"
     ]
    },
    {
     "data": {
      "text/html": [
       "<img src=\"https://d2x5f4aekiektw.cloudfront.net/fuz/products/thumbnails/17088/original/Z00004-z-010.jpg?1572000661\" width=\"150\" height=\"215\"/>"
      ],
      "text/plain": [
       "<IPython.core.display.Image object>"
      ]
     },
     "metadata": {},
     "output_type": "display_data"
    },
    {
     "name": "stdout",
     "output_type": "stream",
     "text": [
      "finish\n",
      "https://comic-fuz.com/series/5\n",
      "20  : \n",
      "まんがタイムきららフォワード　２０２０年３月号\n"
     ]
    },
    {
     "data": {
      "text/html": [
       "<img src=\"https://d2x5f4aekiektw.cloudfront.net/fuz/products/thumbnails/20733/original/Z00005-z-013.jpg?1579681471\" width=\"150\" height=\"215\"/>"
      ],
      "text/plain": [
       "<IPython.core.display.Image object>"
      ]
     },
     "metadata": {},
     "output_type": "display_data"
    },
    {
     "name": "stdout",
     "output_type": "stream",
     "text": [
      "21  : \n",
      "まんがタイムきららフォワード　２０２０年２月号\n"
     ]
    },
    {
     "data": {
      "text/html": [
       "<img src=\"https://d2x5f4aekiektw.cloudfront.net/fuz/products/thumbnails/19865/original/Z00005-z-012.jpg?1577074332\" width=\"150\" height=\"215\"/>"
      ],
      "text/plain": [
       "<IPython.core.display.Image object>"
      ]
     },
     "metadata": {},
     "output_type": "display_data"
    },
    {
     "name": "stdout",
     "output_type": "stream",
     "text": [
      "22  : \n",
      "まんがタイムきららフォワード　２０２０年１月号\n"
     ]
    },
    {
     "data": {
      "text/html": [
       "<img src=\"https://d2x5f4aekiektw.cloudfront.net/fuz/products/thumbnails/18331/original/Z00005-z-011.jpg?1574321354\" width=\"150\" height=\"215\"/>"
      ],
      "text/plain": [
       "<IPython.core.display.Image object>"
      ]
     },
     "metadata": {},
     "output_type": "display_data"
    },
    {
     "name": "stdout",
     "output_type": "stream",
     "text": [
      "finish\n",
      "0 th cover complete\n",
      "1 th cover complete\n",
      "2 th cover complete\n",
      "3 th cover complete\n",
      "4 th cover complete\n",
      "5 th cover complete\n",
      "6 th cover complete\n",
      "7 th cover complete\n",
      "8 th cover complete\n",
      "9 th cover complete\n"
     ]
    }
   ],
   "source": [
    "#tkinter\n",
    "import tkinter as tk\n",
    "import tkinter.ttk as ttk\n",
    "import threading\n",
    "from PIL import ImageTk, Image\n",
    "from functools import partial\n",
    "\n",
    "#selenium\n",
    "from selenium import webdriver\n",
    "from selenium.webdriver.common.keys import Keys\n",
    "from selenium.webdriver.common.by import By\n",
    "from selenium.webdriver.support.ui import WebDriverWait\n",
    "from selenium.webdriver.support import expected_conditions as EC\n",
    "from selenium.webdriver.common.action_chains import ActionChains\n",
    "from selenium.webdriver.chrome.options import Options\n",
    "from urllib.parse import unquote\n",
    "\n",
    "#other\n",
    "import time\n",
    "import json\n",
    "import os\n",
    "import import_ipynb\n",
    "\n",
    "#show image\n",
    "from IPython.core.debugger import set_trace\n",
    "from IPython.display import Image as iImage\n",
    "from IPython.core.display import HTML\n",
    "from IPython.core.debugger import set_trace\n",
    "from IPython.display import clear_output as clear\n",
    "from urllib.request import urlopen\n",
    "from io import BytesIO\n",
    "\n",
    "class ListComic:\n",
    "    def __init__(self,window,driver):\n",
    "        self.driver = driver\n",
    "        self.window = window\n",
    "        self.window.configure(background = 'black')\n",
    "        #self.main_frame = tk.Frame(self.window)\n",
    "        \n",
    "#         #scrollable things\n",
    "#         self.main_canvas = tk.Canvas(self.window)\n",
    "#         self.main_canvas.pack(expand = True,side = 'left',fill = 'both')\n",
    "        \n",
    "#         self.main_scrollbar = tk.Scrollbar(self.window,orient = 'vertical',command = self.main_canvas.yview)\n",
    "#         self.main_scrollbar.pack(side = 'left',fill = 'y')\n",
    "        \n",
    "#         self.main_canvas.configure(yscrollcommand = self.main_scrollbar.set)\n",
    "#         self.main_canvas.bind('<Configure>',self.on_configure)\n",
    "#         self.main_canvas.bind_all('<MouseWheel>', self._on_mousewheel)\n",
    "        \n",
    "#         #need to add width,height information for centering\n",
    "#         self.main_frame = tk.Frame(self.main_canvas,width = 500,height = 300)\n",
    "#         self.main_frame.configure(bg = 'black')\n",
    "#         self.main_frame.pack(expand = True,side = 'left',fill = 'both')\n",
    "#         self.main_canvas.configure(bg = 'black')\n",
    "#         self.main_canvas.create_window((0,0),window = self.main_frame,anchor = 'nw')\n",
    "        \n",
    "        self.loading_frame = tk.Frame(self.window,width = 500,height = 300)\n",
    "        self.loading_frame.configure(bg = 'black')\n",
    "        self.loading_frame.pack(expand = True,fill = 'both')\n",
    "        \n",
    "        self.bg = 'black'\n",
    "        self.fg = 'orange'\n",
    "        self.ft = 'Helvetica 12 bold'\n",
    "        \n",
    "        #manga cover list (image)\n",
    "        self.readable_manga_cover = []\n",
    "        #manga title list\n",
    "        self.readable_manga_title = []\n",
    "        \n",
    "        self.start_list_of_readable_manga()\n",
    "    \n",
    "    #scrollable things\n",
    "    def on_configure(self,event):\n",
    "        self.main_canvas.configure(scrollregion = self.main_canvas.bbox(\"all\"))\n",
    "        \n",
    "    def _on_mousewheel(self, event):\n",
    "        self.main_canvas.yview_scroll(int(-1*(event.delta/50)), \"units\")\n",
    "        \n",
    "    def clear_all_widgets(self):\n",
    "        \n",
    "        for widget in self.main_frame.winfo_children():\n",
    "            widget.destroy()\n",
    "        \n",
    "    def cover_link_to_image(self,link):\n",
    "        \n",
    "        p = 0.2\n",
    "        \n",
    "        for i in range(len(link)):\n",
    "            image_url = urlopen(link[i])\n",
    "            url_data = image_url.read()\n",
    "            image_url.close()\n",
    "            link[i] = Image.open(BytesIO(url_data))\n",
    "\n",
    "            pre_w , pre_h = link[i].size[0] , link[i].size[1]\n",
    "            link[i] = link[i].resize((int(p * pre_w),int(p * pre_h)),Image.ANTIALIAS)\n",
    "            \n",
    "            self.readable_manga_cover.append(ImageTk.PhotoImage(link[i]))\n",
    "            \n",
    "            print(i,'th cover complete')\n",
    "            \n",
    "        print('all complete')\n",
    "    \n",
    "    def list_all_in_frame(self):\n",
    "        #scrollable things\n",
    "        self.main_canvas = tk.Canvas(self.window)\n",
    "        self.main_canvas.pack(expand = True,side = 'left',fill = 'both')\n",
    "        \n",
    "        self.main_scrollbar = tk.Scrollbar(self.window,orient = 'vertical',command = self.main_canvas.yview)\n",
    "        self.main_scrollbar.pack(side = 'left',fill = 'y')\n",
    "        \n",
    "        self.main_canvas.configure(yscrollcommand = self.main_scrollbar.set)\n",
    "        self.main_canvas.bind('<Configure>',self.on_configure)\n",
    "        self.main_canvas.bind_all('<MouseWheel>', self._on_mousewheel)\n",
    "        \n",
    "        #need to add width,height information for centering\n",
    "        self.main_frame = tk.Frame(self.main_canvas,width = 500,height = 300)\n",
    "        self.main_frame.configure(bg = 'black')\n",
    "        self.main_frame.pack(expand = True,side = 'left',fill = 'both')\n",
    "        self.main_canvas.configure(bg = 'black')\n",
    "        self.main_canvas.create_window((0,0),window = self.main_frame,anchor = 'nw')\n",
    "        \n",
    "        #show image\n",
    "        \n",
    "        #shukan times : 10\n",
    "        \n",
    "        shukan_times_title = tk.Label(self.main_frame,text = \"週刊漫画ＴＩＭＥＳ\",bg = self.bg,fg = self.fg,font = self.ft)\n",
    "        shukan_times_title.grid(row = 0,column = 0,columnspan = 3,sticky = 'news')\n",
    "        \n",
    "        shukan_times = []\n",
    "        shukan_times_subtitle = []\n",
    "        \n",
    "        row_cnt = 0\n",
    "        \n",
    "        for i in range(10):\n",
    "            shukan_times.append(tk.Label(self.main_frame,image = self.readable_manga_cover[i],bg = self.bg))\n",
    "            shukan_times_subtitle.append(tk.Button(self.main_frame,text = self.readable_manga_title[i],bg = self.bg,fg = self.fg,font = \"Helvetica 8 bold\",command = None))\n",
    "            \n",
    "            shukan_times[i].photo = self.readable_manga_cover[i]\n",
    "            \n",
    "            shukan_times[i].grid(row = row_cnt,column = 0,sticky = 'news')\n",
    "            shukan_times_subtitle[i].grid(row = row_cnt + 1,column = 0,sticky = 'news')\n",
    "            \n",
    "            #if i % 3 == 2:\n",
    "            row_cnt += 2\n",
    "        \n",
    "#         #pre_cover.append(Image.open('mcover' + str(comic_cnt + 1) + '.jpg'))\n",
    "#         image_url = urlopen(self.readable_manga_cover[comic_cnt])\n",
    "#         url_data = image_url.read()\n",
    "#         image_url.close()\n",
    "#         pre_cover.append(Image.open(BytesIO(url_data)))\n",
    "\n",
    "#         pre_w , pre_h = pre_cover[comic_cnt].size[0],pre_cover[comic_cnt].size[1]\n",
    "#         pre_cover[comic_cnt] = pre_cover[comic_cnt].resize((int(p * pre_w),int(p * pre_h)),Image.ANTIALIAS)\n",
    "\n",
    "#         cover = ImageTk.PhotoImage(pre_cover[comic_cnt])\n",
    "#         comics[i].append(tk.Label(self.main_frame,image = cover,bg = self.bg))\n",
    "#         comics[i][j].photo = cover\n",
    "#         #comics[i].pack(expand = True,fill = 'both')\n",
    "#         comics[i][j].grid(row = i,column = j,sticky = 'news')\n",
    "\n",
    "#         l = tk.Button(self.main_frame,text = self.readable_manga_title[cnt],bg = self.bg,fg = self.fg,font = \"Helvetica 8 bold\",command = None)\n",
    "\n",
    "#         comics[i].append(l)\n",
    "\n",
    "#         comics[i][j].grid(row = i,column = j,sticky = 'news')\n",
    "\n",
    "        print('over')\n",
    "    \n",
    "    # webdriver\n",
    "    \n",
    "    def add_login_cookie(self):\n",
    "        fc = open('comicFuz.json')\n",
    "        cookie = fc.read()\n",
    "        cookie = json.loads(cookie)\n",
    "\n",
    "        for c in cookie:\n",
    "            if 'expiry' in c:\n",
    "                del c['expiry']\n",
    "            self.driver.add_cookie(c)\n",
    "\n",
    "        self.driver.refresh()\n",
    "        \n",
    "    def check_thread_alive(self,thread):\n",
    "        if thread.is_alive():\n",
    "            self.window.after(20,self.check_thread_alive,thread)\n",
    "        else :\n",
    "            pass\n",
    "        \n",
    "    def start_list_of_readable_manga(self):\n",
    "        \n",
    "        loading_info = tk.Label(self.loading_frame,text = \"Next page is loading...\",bg = self.bg,fg = self.fg,font = self.ft,height = 2)\n",
    "        loading_info.place(relx = .47,rely = .4,anchor = 'c')\n",
    "        #progressbar\n",
    "        progress_bar = ttk.Progressbar(self.loading_frame,orient='horizontal',length = 100,mode = 'determinate')\n",
    "        progress_bar.place(relx = .47,rely = .5,anchor = 'c')\n",
    "        \n",
    "        progress_bar['value'] = 0\n",
    "        self.window.update_idletasks()\n",
    "        \n",
    "        th = threading.Thread(target = self.list_of_readable_manga,args = (progress_bar,loading_info,))\n",
    "        th.setDaemon(True)\n",
    "        th.start()\n",
    "        self.window.after(20,self.check_thread_alive,th)\n",
    "    \n",
    "    def list_of_readable_manga(self,progress_bar,loading_info):\n",
    "        \n",
    "        piece = 100 / 22\n",
    "        loading = 0\n",
    "        \n",
    "        url = 'https://comic-fuz.com/series/'\n",
    "        \n",
    "        self.driver.get(url)\n",
    "        \n",
    "        self.add_login_cookie()\n",
    "        \n",
    "        #number(id) of cover\n",
    "        cnt = 1\n",
    "        readable_link_list = []\n",
    "        readable_cover_link = []\n",
    "\n",
    "        for series_num in range(1,6):\n",
    "\n",
    "            if url[-1] == '/':\n",
    "                url += str(series_num)\n",
    "            else :\n",
    "                url = url[:len(url) - 1:]\n",
    "                url += str(series_num)\n",
    "\n",
    "            print(url)\n",
    "            self.driver.get(url)\n",
    "\n",
    "            time.sleep(2)\n",
    "\n",
    "            xpath = '//*[contains(@class,\"list\")]'\n",
    "            comic_table = self.driver.find_element_by_xpath(xpath)\n",
    "            #print(comic_table.get_attribute(\"class\"))\n",
    "            comic_list = comic_table.find_elements_by_tag_name(\"li\")\n",
    "\n",
    "            series_cnt = 0\n",
    "\n",
    "            for item in comic_list:\n",
    "                #check which li is it\n",
    "                series_cnt += 1\n",
    "                #check if it is rented\n",
    "                if '読む' in item.text:\n",
    "                    print(cnt,\" : \")\n",
    "                    cnt += 1\n",
    "                    \n",
    "                    if cnt != 23:\n",
    "                        progress_bar['value'] = loading + piece\n",
    "                        loading += piece\n",
    "                        self.window.update_idletasks()\n",
    "                    else :\n",
    "                        progress_bar['value'] = 100\n",
    "                        self.window.update_idletasks()\n",
    "\n",
    "                    title = item.find_element_by_class_name(\"title\")\n",
    "                    self.readable_manga_title.append(title.text)\n",
    "                    print(title.text)\n",
    "\n",
    "                    link_path = '/html/body/main/div/div/div/section/div/ul/li[' + str(series_cnt) + ']/div[2]/div[1]/div/a'\n",
    "                    link = item.find_element_by_xpath(link_path)\n",
    "                    readable_link_list.append(link.get_attribute(\"href\"))\n",
    "\n",
    "                    rimg = item.find_element_by_tag_name(\"img\").get_attribute(\"src\")\n",
    "                    readable_cover_link.append(rimg)\n",
    "                    display(iImage(url = rimg,width = 150,height = 215))\n",
    "            \n",
    "            print('finish')\n",
    "        \n",
    "        time.sleep(2)\n",
    "        \n",
    "        progress_bar.destroy()\n",
    "        loading_info.destroy()\n",
    "        self.loading_frame.destroy()\n",
    "        \n",
    "        self.cover_link_to_image(readable_cover_link)\n",
    "        self.list_all_in_frame()\n",
    "            \n",
    "            \n",
    "window = tk.Tk()\n",
    "window.title('List')\n",
    "window.geometry('500x300')\n",
    "window.resizable(0,0)\n",
    "\n",
    "chrome_options = Options()\n",
    "chrome_options.add_argument('headless')\n",
    "driver = webdriver.Chrome(options = chrome_options)\n",
    "\n",
    "#setting new icon\n",
    "icon = ImageTk.PhotoImage(file = 'Cover.png')\n",
    "window.tk.call('wm','iconphoto',window._w,icon)\n",
    "print(icon)\n",
    "\n",
    "page = ListComic(window,driver)\n",
    "\n",
    "window.mainloop()"
   ]
  }
 ],
 "metadata": {
  "kernelspec": {
   "display_name": "Python 3",
   "language": "python",
   "name": "python3"
  },
  "language_info": {
   "codemirror_mode": {
    "name": "ipython",
    "version": 3
   },
   "file_extension": ".py",
   "mimetype": "text/x-python",
   "name": "python",
   "nbconvert_exporter": "python",
   "pygments_lexer": "ipython3",
   "version": "3.7.4"
  }
 },
 "nbformat": 4,
 "nbformat_minor": 2
}
