{
 "cells": [
  {
   "cell_type": "code",
   "execution_count": null,
   "metadata": {
    "scrolled": false
   },
   "outputs": [
    {
     "name": "stdout",
     "output_type": "stream",
     "text": [
      "pyimage24\n",
      "https://comic-fuz.com/series/1\n",
      "1  : \n",
      "週刊漫画ＴＩＭＥＳ　２０２０年２／７号\n"
     ]
    },
    {
     "data": {
      "text/html": [
       "<img src=\"https://d2x5f4aekiektw.cloudfront.net/fuz/products/thumbnails/20721/original/Z00001-z-049.jpg?1579588583\" width=\"150\" height=\"215\"/>"
      ],
      "text/plain": [
       "<IPython.core.display.Image object>"
      ]
     },
     "metadata": {},
     "output_type": "display_data"
    },
    {
     "name": "stdout",
     "output_type": "stream",
     "text": [
      "2  : \n",
      "週刊漫画ＴＩＭＥＳ　２０２０年１／３１号\n"
     ]
    },
    {
     "data": {
      "text/html": [
       "<img src=\"https://d2x5f4aekiektw.cloudfront.net/fuz/products/thumbnails/20475/original/Z00001-z-048.jpg?1579151966\" width=\"150\" height=\"215\"/>"
      ],
      "text/plain": [
       "<IPython.core.display.Image object>"
      ]
     },
     "metadata": {},
     "output_type": "display_data"
    },
    {
     "name": "stdout",
     "output_type": "stream",
     "text": [
      "3  : \n",
      "週刊漫画ＴＩＭＥＳ　２０２０年１／２４号\n"
     ]
    },
    {
     "data": {
      "text/html": [
       "<img src=\"https://d2x5f4aekiektw.cloudfront.net/fuz/products/thumbnails/20317/original/Z00001-z-047.jpg?1578298331\" width=\"150\" height=\"215\"/>"
      ],
      "text/plain": [
       "<IPython.core.display.Image object>"
      ]
     },
     "metadata": {},
     "output_type": "display_data"
    },
    {
     "name": "stdout",
     "output_type": "stream",
     "text": [
      "4  : \n",
      "週刊漫画ＴＩＭＥＳ　２０２０年１／１０・１７合併号\n"
     ]
    },
    {
     "data": {
      "text/html": [
       "<img src=\"https://d2x5f4aekiektw.cloudfront.net/fuz/products/thumbnails/19877/original/Z00001-z-046.jpg?1577177896\" width=\"150\" height=\"215\"/>"
      ],
      "text/plain": [
       "<IPython.core.display.Image object>"
      ]
     },
     "metadata": {},
     "output_type": "display_data"
    },
    {
     "name": "stdout",
     "output_type": "stream",
     "text": [
      "5  : \n",
      "週刊漫画ＴＩＭＥＳ　２０２０年１／３号\n"
     ]
    },
    {
     "data": {
      "text/html": [
       "<img src=\"https://d2x5f4aekiektw.cloudfront.net/fuz/products/thumbnails/19856/original/Z00001-z-045.jpg?1576736801\" width=\"150\" height=\"215\"/>"
      ],
      "text/plain": [
       "<IPython.core.display.Image object>"
      ]
     },
     "metadata": {},
     "output_type": "display_data"
    },
    {
     "name": "stdout",
     "output_type": "stream",
     "text": [
      "6  : \n",
      "週刊漫画ＴＩＭＥＳ　２０１９年１２／２７号\n"
     ]
    },
    {
     "data": {
      "text/html": [
       "<img src=\"https://d2x5f4aekiektw.cloudfront.net/fuz/products/thumbnails/19428/original/Z00001-z-044.jpg?1575880605\" width=\"150\" height=\"215\"/>"
      ],
      "text/plain": [
       "<IPython.core.display.Image object>"
      ]
     },
     "metadata": {},
     "output_type": "display_data"
    },
    {
     "name": "stdout",
     "output_type": "stream",
     "text": [
      "7  : \n",
      "週刊漫画ＴＩＭＥＳ　２０１９年１２／２０号\n"
     ]
    },
    {
     "data": {
      "text/html": [
       "<img src=\"https://d2x5f4aekiektw.cloudfront.net/fuz/products/thumbnails/19416/original/Z00001-z-043.jpg?1575437251\" width=\"150\" height=\"215\"/>"
      ],
      "text/plain": [
       "<IPython.core.display.Image object>"
      ]
     },
     "metadata": {},
     "output_type": "display_data"
    },
    {
     "name": "stdout",
     "output_type": "stream",
     "text": [
      "8  : \n",
      "週刊漫画ＴＩＭＥＳ　２０１９年１２／６・１３合併号\n"
     ]
    },
    {
     "data": {
      "text/html": [
       "<img src=\"https://d2x5f4aekiektw.cloudfront.net/fuz/products/thumbnails/18312/original/Z00001-z-042.jpg?1574238879\" width=\"150\" height=\"215\"/>"
      ],
      "text/plain": [
       "<IPython.core.display.Image object>"
      ]
     },
     "metadata": {},
     "output_type": "display_data"
    },
    {
     "name": "stdout",
     "output_type": "stream",
     "text": [
      "9  : \n",
      "週刊漫画ＴＩＭＥＳ　２０１９年１１／２９号\n"
     ]
    },
    {
     "data": {
      "text/html": [
       "<img src=\"https://d2x5f4aekiektw.cloudfront.net/fuz/products/thumbnails/17925/original/Z00001-z-041.jpg?1573719065\" width=\"150\" height=\"215\"/>"
      ],
      "text/plain": [
       "<IPython.core.display.Image object>"
      ]
     },
     "metadata": {},
     "output_type": "display_data"
    },
    {
     "name": "stdout",
     "output_type": "stream",
     "text": [
      "10  : \n",
      "週刊漫画ＴＩＭＥＳ　２０１９年１１／２２号\n"
     ]
    },
    {
     "data": {
      "text/html": [
       "<img src=\"https://d2x5f4aekiektw.cloudfront.net/fuz/products/thumbnails/17856/original/Z00001-z-040.jpg?1573121821\" width=\"150\" height=\"215\"/>"
      ],
      "text/plain": [
       "<IPython.core.display.Image object>"
      ]
     },
     "metadata": {},
     "output_type": "display_data"
    },
    {
     "name": "stdout",
     "output_type": "stream",
     "text": [
      "finish\n",
      "https://comic-fuz.com/series/2\n",
      "11  : \n",
      "まんがタイムきらら　２０２０年２月号\n"
     ]
    },
    {
     "data": {
      "text/html": [
       "<img src=\"https://d2x5f4aekiektw.cloudfront.net/fuz/products/thumbnails/20318/original/Z00002-z-013.jpg?1578303602\" width=\"150\" height=\"215\"/>"
      ],
      "text/plain": [
       "<IPython.core.display.Image object>"
      ]
     },
     "metadata": {},
     "output_type": "display_data"
    },
    {
     "name": "stdout",
     "output_type": "stream",
     "text": [
      "12  : \n",
      "まんがタイムきらら　２０２０年１月号\n"
     ]
    },
    {
     "data": {
      "text/html": [
       "<img src=\"https://d2x5f4aekiektw.cloudfront.net/fuz/products/thumbnails/19425/original/Z00002-z-012.jpg?1575625428\" width=\"150\" height=\"215\"/>"
      ],
      "text/plain": [
       "<IPython.core.display.Image object>"
      ]
     },
     "metadata": {},
     "output_type": "display_data"
    },
    {
     "name": "stdout",
     "output_type": "stream",
     "text": [
      "13  : \n",
      "まんがタイムきらら　２０１９年１２月号\n"
     ]
    },
    {
     "data": {
      "text/html": [
       "<img src=\"https://d2x5f4aekiektw.cloudfront.net/fuz/products/thumbnails/17857/original/Z00002-z-011.jpg?1573199535\" width=\"150\" height=\"215\"/>"
      ],
      "text/plain": [
       "<IPython.core.display.Image object>"
      ]
     },
     "metadata": {},
     "output_type": "display_data"
    },
    {
     "name": "stdout",
     "output_type": "stream",
     "text": [
      "finish\n",
      "https://comic-fuz.com/series/3\n",
      "14  : \n",
      "まんがタイムきららＭＡＸ　２０２０年３月号\n"
     ]
    },
    {
     "data": {
      "text/html": [
       "<img src=\"https://d2x5f4aekiektw.cloudfront.net/fuz/products/thumbnails/20696/original/Z00003-z-013.jpg?1579166389\" width=\"150\" height=\"215\"/>"
      ],
      "text/plain": [
       "<IPython.core.display.Image object>"
      ]
     },
     "metadata": {},
     "output_type": "display_data"
    },
    {
     "name": "stdout",
     "output_type": "stream",
     "text": [
      "15  : \n",
      "まんがタイムきららＭＡＸ　２０２０年２月号\n"
     ]
    },
    {
     "data": {
      "text/html": [
       "<img src=\"https://d2x5f4aekiektw.cloudfront.net/fuz/products/thumbnails/19847/original/Z00003-z-012.jpg?1576653764\" width=\"150\" height=\"215\"/>"
      ],
      "text/plain": [
       "<IPython.core.display.Image object>"
      ]
     },
     "metadata": {},
     "output_type": "display_data"
    },
    {
     "name": "stdout",
     "output_type": "stream",
     "text": [
      "16  : \n",
      "まんがタイムきららＭＡＸ　２０２０年１月号\n"
     ]
    },
    {
     "data": {
      "text/html": [
       "<img src=\"https://d2x5f4aekiektw.cloudfront.net/fuz/products/thumbnails/17927/original/Z00003-z-011.jpg?1574059773\" width=\"150\" height=\"215\"/>"
      ],
      "text/plain": [
       "<IPython.core.display.Image object>"
      ]
     },
     "metadata": {},
     "output_type": "display_data"
    },
    {
     "name": "stdout",
     "output_type": "stream",
     "text": [
      "finish\n",
      "https://comic-fuz.com/series/4\n",
      "17  : \n",
      "まんがタイムきららキャラット　２０２０年３月号\n"
     ]
    },
    {
     "data": {
      "text/html": [
       "<img src=\"https://d2x5f4aekiektw.cloudfront.net/fuz/products/thumbnails/20737/original/Z00004-z-013.jpg?1580099223\" width=\"150\" height=\"215\"/>"
      ],
      "text/plain": [
       "<IPython.core.display.Image object>"
      ]
     },
     "metadata": {},
     "output_type": "display_data"
    },
    {
     "name": "stdout",
     "output_type": "stream",
     "text": [
      "18  : \n",
      "まんがタイムきららキャラット　２０２０年２月号\n"
     ]
    },
    {
     "data": {
      "text/html": [
       "<img src=\"https://d2x5f4aekiektw.cloudfront.net/fuz/products/thumbnails/20259/original/Z00004-z-012.jpg?1577351770\" width=\"150\" height=\"215\"/>"
      ],
      "text/plain": [
       "<IPython.core.display.Image object>"
      ]
     },
     "metadata": {},
     "output_type": "display_data"
    },
    {
     "name": "stdout",
     "output_type": "stream",
     "text": [
      "19  : \n",
      "まんがタイムきららキャラット　２０２０年１月号\n"
     ]
    },
    {
     "data": {
      "text/html": [
       "<img src=\"https://d2x5f4aekiektw.cloudfront.net/fuz/products/thumbnails/18544/original/Z00004-z-011.jpg?1574760481\" width=\"150\" height=\"215\"/>"
      ],
      "text/plain": [
       "<IPython.core.display.Image object>"
      ]
     },
     "metadata": {},
     "output_type": "display_data"
    },
    {
     "name": "stdout",
     "output_type": "stream",
     "text": [
      "finish\n",
      "https://comic-fuz.com/series/5\n",
      "20  : \n",
      "まんがタイムきららフォワード　２０２０年３月号\n"
     ]
    },
    {
     "data": {
      "text/html": [
       "<img src=\"https://d2x5f4aekiektw.cloudfront.net/fuz/products/thumbnails/20733/original/Z00005-z-013.jpg?1579681471\" width=\"150\" height=\"215\"/>"
      ],
      "text/plain": [
       "<IPython.core.display.Image object>"
      ]
     },
     "metadata": {},
     "output_type": "display_data"
    },
    {
     "name": "stdout",
     "output_type": "stream",
     "text": [
      "21  : \n",
      "まんがタイムきららフォワード　２０２０年２月号\n"
     ]
    },
    {
     "data": {
      "text/html": [
       "<img src=\"https://d2x5f4aekiektw.cloudfront.net/fuz/products/thumbnails/19865/original/Z00005-z-012.jpg?1577074332\" width=\"150\" height=\"215\"/>"
      ],
      "text/plain": [
       "<IPython.core.display.Image object>"
      ]
     },
     "metadata": {},
     "output_type": "display_data"
    },
    {
     "name": "stdout",
     "output_type": "stream",
     "text": [
      "22  : \n",
      "まんがタイムきららフォワード　２０２０年１月号\n"
     ]
    },
    {
     "data": {
      "text/html": [
       "<img src=\"https://d2x5f4aekiektw.cloudfront.net/fuz/products/thumbnails/18331/original/Z00005-z-011.jpg?1574321354\" width=\"150\" height=\"215\"/>"
      ],
      "text/plain": [
       "<IPython.core.display.Image object>"
      ]
     },
     "metadata": {},
     "output_type": "display_data"
    },
    {
     "name": "stdout",
     "output_type": "stream",
     "text": [
      "finish\n",
      "0 th cover complete\n",
      "1 th cover complete\n",
      "2 th cover complete\n",
      "3 th cover complete\n",
      "4 th cover complete\n",
      "5 th cover complete\n",
      "6 th cover complete\n",
      "7 th cover complete\n",
      "8 th cover complete\n",
      "9 th cover complete\n",
      "10 th cover complete\n",
      "11 th cover complete\n",
      "12 th cover complete\n",
      "13 th cover complete\n",
      "14 th cover complete\n",
      "15 th cover complete\n",
      "16 th cover complete\n",
      "17 th cover complete\n",
      "18 th cover complete\n",
      "19 th cover complete\n",
      "20 th cover complete\n",
      "21 th cover complete\n",
      "all complete\n",
      "over\n",
      "Waiting for page loaded.\n",
      "\n",
      "Web is loaded\n",
      "page_now_str  <class 'str'>\n"
     ]
    },
    {
     "name": "stderr",
     "output_type": "stream",
     "text": [
      "Exception in Tkinter callback\n",
      "Traceback (most recent call last):\n",
      "  File \"c:\\users\\leo89\\appdata\\local\\programs\\python\\python37-32\\lib\\tkinter\\__init__.py\", line 1705, in __call__\n",
      "    return self.func(*args)\n",
      "  File \"<ipython-input-2-50f9e95544fd>\", line 523, in download_comic\n",
      "    page_now_ele , total_page = self.to_comic_first_page()\n",
      "  File \"<ipython-input-2-50f9e95544fd>\", line 384, in to_comic_first_page\n",
      "    page_now = int(page_now_str)\n",
      "ValueError: invalid literal for int() with base 10: ''\n"
     ]
    }
   ],
   "source": [
    "#tkinter\n",
    "import tkinter as tk\n",
    "import tkinter.ttk as ttk\n",
    "import threading\n",
    "from PIL import ImageTk, Image\n",
    "from functools import partial\n",
    "\n",
    "#selenium\n",
    "from selenium import webdriver\n",
    "from selenium.webdriver.common.keys import Keys\n",
    "from selenium.webdriver.common.by import By\n",
    "from selenium.webdriver.support.ui import WebDriverWait\n",
    "from selenium.webdriver.support import expected_conditions as EC\n",
    "from selenium.webdriver.common.action_chains import ActionChains\n",
    "from selenium.webdriver.chrome.options import Options\n",
    "from urllib.parse import unquote\n",
    "\n",
    "#other\n",
    "import time\n",
    "import json\n",
    "import os\n",
    "import import_ipynb\n",
    "\n",
    "#show image\n",
    "from IPython.core.debugger import set_trace\n",
    "from IPython.display import Image as iImage\n",
    "from IPython.core.display import HTML\n",
    "from IPython.core.debugger import set_trace\n",
    "from IPython.display import clear_output as clear\n",
    "from urllib.request import urlopen\n",
    "from io import BytesIO\n",
    "\n",
    "class ListComic:\n",
    "    def __init__(self,window,driver):\n",
    "        self.driver = driver\n",
    "        self.window = window\n",
    "        self.window.configure(background = 'black')\n",
    "        \n",
    "        #scrollable things\n",
    "        self.main_canvas = tk.Canvas(self.window)\n",
    "        self.main_canvas.pack(expand = True,side = 'left',fill = 'both')\n",
    "        \n",
    "        self.main_scrollbar = tk.Scrollbar(self.window,orient = 'vertical',command = self.main_canvas.yview)\n",
    "        #self.main_scrollbar.pack(side = 'left',fill = 'y')\n",
    "        \n",
    "        self.main_canvas.configure(yscrollcommand = self.main_scrollbar.set)\n",
    "        self.main_canvas.bind('<Configure>',self.on_configure)\n",
    "        self.main_canvas.bind_all('<MouseWheel>', self._on_mousewheel)\n",
    "        \n",
    "        #need to add width,height information for centering\n",
    "        self.main_frame = tk.Frame(self.main_canvas,width = 500,height = 300)\n",
    "        self.main_frame.configure(bg = 'black')\n",
    "        self.main_frame.pack(expand = True,side = 'left',fill = 'both')\n",
    "        self.main_canvas.configure(bg = 'black')\n",
    "        self.main_canvas.create_window((0,0),window = self.main_frame,anchor = 'nw')\n",
    "        \n",
    "#         self.loading_frame = tk.Frame(self.window,width = 500,height = 300)\n",
    "#         self.loading_frame.configure(bg = 'black')\n",
    "#         self.loading_frame.pack(expand = True,fill = 'both')\n",
    "        \n",
    "        self.bg = 'black'\n",
    "        self.fg = 'orange'\n",
    "        self.ft = 'Helvetica 12 bold'\n",
    "        \n",
    "        #manga cover list (image)\n",
    "        self.readable_manga_cover = []\n",
    "        #manga title list\n",
    "        self.readable_manga_title = []\n",
    "        #manga link list\n",
    "        self.readable_link_list = []\n",
    "        \n",
    "        self.start_list_of_readable_manga()\n",
    "    \n",
    "    #scrollable things\n",
    "    def on_configure(self,event):\n",
    "        self.main_canvas.configure(scrollregion = self.main_canvas.bbox(\"all\"))\n",
    "        \n",
    "    def _on_mousewheel(self, event):\n",
    "        self.main_canvas.yview_scroll(int(-1*(event.delta/50)), \"units\")\n",
    "        \n",
    "    def clear_all_widgets(self):\n",
    "        \n",
    "        for widget in self.main_frame.winfo_children():\n",
    "            widget.destroy()\n",
    "        \n",
    "    def cover_link_to_image(self,link):\n",
    "        \n",
    "        p = 0.2\n",
    "        \n",
    "        for i in range(len(link)):\n",
    "            image_url = urlopen(link[i])\n",
    "            url_data = image_url.read()\n",
    "            image_url.close()\n",
    "            link[i] = Image.open(BytesIO(url_data))\n",
    "\n",
    "            pre_w , pre_h = link[i].size[0] , link[i].size[1]\n",
    "            link[i] = link[i].resize((int(p * pre_w),int(p * pre_h)),Image.ANTIALIAS)\n",
    "            \n",
    "            self.readable_manga_cover.append(ImageTk.PhotoImage(link[i]))\n",
    "            \n",
    "            print(i,'th cover complete')\n",
    "            \n",
    "        print('all complete')\n",
    "    \n",
    "    def list_all_in_frame(self):\n",
    "#         #scrollable things\n",
    "#         self.main_canvas = tk.Canvas(self.window)\n",
    "#         self.main_canvas.pack(expand = True,side = 'left',fill = 'both')\n",
    "        \n",
    "#         self.main_scrollbar = tk.Scrollbar(self.window,orient = 'vertical',command = self.main_canvas.yview)\n",
    "#         #self.main_scrollbar.pack(side = 'left',fill = 'y')\n",
    "        \n",
    "#         self.main_canvas.configure(yscrollcommand = self.main_scrollbar.set)\n",
    "#         self.main_canvas.bind('<Configure>',self.on_configure)\n",
    "#         self.main_canvas.bind_all('<MouseWheel>', self._on_mousewheel)\n",
    "        \n",
    "#         #need to add width,height information for centering\n",
    "#         self.main_frame = tk.Frame(self.main_canvas,width = 500,height = 300)\n",
    "#         self.main_frame.configure(bg = 'black')\n",
    "#         self.main_frame.pack(expand = True,side = 'left',fill = 'both')\n",
    "#         self.main_canvas.configure(bg = 'black')\n",
    "#         self.main_canvas.create_window((0,0),window = self.main_frame,anchor = 'nw')\n",
    "        \n",
    "        #show image\n",
    "        \n",
    "        #shukan times : 10 ,(0 ~ 9) for self\n",
    "        \n",
    "        shukan_times_title = tk.Label(self.main_frame,text = \"週刊漫画ＴＩＭＥＳ\",bg = self.bg,fg = self.fg,font = self.ft)\n",
    "        shukan_times_title.grid(row = 0,column = 0,columnspan = 2,sticky = 'news')\n",
    "        \n",
    "        shukan_times = []\n",
    "        shukan_times_subtitle = []\n",
    "        \n",
    "        row_cnt = 1\n",
    "        \n",
    "        for i in range(10):\n",
    "            if i % 2 == 0 and i != 0:\n",
    "                row_cnt += 2\n",
    "                \n",
    "            if \"週刊漫画ＴＩＭＥＳ　\" in self.readable_manga_title[i]:\n",
    "                self.readable_manga_title[i] = self.readable_manga_title[i].replace(\"週刊漫画ＴＩＭＥＳ　\",\"\")\n",
    "\n",
    "            shukan_times.append(tk.Label(self.main_frame,image = self.readable_manga_cover[i],bg = self.bg))\n",
    "            shukan_times_subtitle.append(tk.Button(self.main_frame,text = self.readable_manga_title[i],bg = self.bg,fg = self.fg,font = \"Helvetica 8 bold\",\n",
    "                                                   command = partial(self.download_comic,i)))\n",
    "            \n",
    "            shukan_times[i].photo = self.readable_manga_cover[i]\n",
    "            \n",
    "            shukan_times[i].grid(row = row_cnt,column = i % 2,sticky = 'news')\n",
    "            shukan_times_subtitle[i].grid(row = row_cnt + 1,column = i % 2,sticky = 'news')\n",
    "        \n",
    "        \n",
    "        #manga_time_kirara : 3 ,(10 ~ 12) for self\n",
    "        \n",
    "        manga_time_kirara_title = tk.Label(self.main_frame,text = \"まんがタイムきらら\",bg = self.bg,fg = self.fg,font = self.ft)\n",
    "        manga_time_kirara_title.grid(row = row_cnt + 2,column = 0,columnspan = 2,sticky = 'news')\n",
    "        \n",
    "        row_cnt += 3\n",
    "        \n",
    "        manga_time_kirara = []\n",
    "        manga_time_kirara_subtitle = []\n",
    "        \n",
    "        for i in range(3):\n",
    "            if i % 2 == 0 and i != 0:\n",
    "                row_cnt += 2\n",
    "            \n",
    "            j = i + 10\n",
    "            \n",
    "            if \"まんがタイムきらら　\" in self.readable_manga_title[j]:\n",
    "                self.readable_manga_title[j] = self.readable_manga_title[j].replace(\"まんがタイムきらら　\",\"\")\n",
    "            \n",
    "            manga_time_kirara.append(tk.Label(self.main_frame,image = self.readable_manga_cover[j],bg = self.bg))\n",
    "            manga_time_kirara_subtitle.append(tk.Button(self.main_frame,text = self.readable_manga_title[j],bg = self.bg,fg = self.fg,font = \"Helvetic 8 bold\",\n",
    "                                                        command = partial(self.download_comic,j)))\n",
    "            \n",
    "            #adjust idx\n",
    "            manga_time_kirara[i].photo = self.readable_manga_cover[j]\n",
    "            \n",
    "            manga_time_kirara[i].grid(row = row_cnt,column = i % 2,sticky = 'news')\n",
    "            manga_time_kirara_subtitle[i].grid(row = row_cnt + 1,column = i % 2,sticky = 'news')\n",
    "            \n",
    "            \n",
    "        #manga_time_kirara_max : 3 ,(13 ~ 15) for self\n",
    "        \n",
    "        manga_time_kirara_max_title = tk.Label(self.main_frame,text = \"まんがタイムきららＭＡＸ\",bg = self.bg,fg = self.fg,font = self.ft)\n",
    "        manga_time_kirara_max_title.grid(row = row_cnt + 2,column = 0,columnspan = 2,sticky = 'news')\n",
    "        \n",
    "        row_cnt += 3\n",
    "        \n",
    "        manga_time_kirara_max = []\n",
    "        manga_time_kirara_max_subtitle = []\n",
    "        \n",
    "        for i in range(3):\n",
    "            if i % 2 == 0 and i != 0:\n",
    "                row_cnt += 2\n",
    "            \n",
    "            j = i + 13\n",
    "            \n",
    "            if \"まんがタイムきららＭＡＸ　\" in self.readable_manga_title[j]:\n",
    "                self.readable_manga_title[j] = self.readable_manga_title[j].replace(\"まんがタイムきららＭＡＸ　\",\"\")\n",
    "            \n",
    "            manga_time_kirara_max.append(tk.Label(self.main_frame,image = self.readable_manga_cover[j],bg = self.bg))\n",
    "            manga_time_kirara_max_subtitle.append(tk.Button(self.main_frame,text = self.readable_manga_title[j],bg = self.bg,fg = self.fg,font = \"Helvetic 8 bold\",\n",
    "                                                            command = partial(self.download_comic,j)))\n",
    "            \n",
    "            #adjust idx\n",
    "            manga_time_kirara_max[i].photo = self.readable_manga_cover[j]\n",
    "            \n",
    "            manga_time_kirara_max[i].grid(row = row_cnt,column = i % 2,sticky = 'news')\n",
    "            manga_time_kirara_max_subtitle[i].grid(row = row_cnt + 1,column = i % 2,sticky = 'news')\n",
    "            \n",
    "        \n",
    "        #manga_time_kirara_carat : 3 ,(16 ~ 18) for self\n",
    "        \n",
    "        manga_time_kirara_carat_title = tk.Label(self.main_frame,text = \"まんがタイムきららキャラット\",bg = self.bg,fg = self.fg,font = self.ft)\n",
    "        manga_time_kirara_carat_title.grid(row = row_cnt + 2,column = 0,columnspan = 2,sticky = 'news')\n",
    "        \n",
    "        row_cnt += 3\n",
    "        \n",
    "        manga_time_kirara_carat = []\n",
    "        manga_time_kirara_carat_subtitle = []\n",
    "        \n",
    "        for i in range(3):\n",
    "            if i % 2 == 0 and i != 0:\n",
    "                row_cnt += 2\n",
    "            \n",
    "            j = i + 16\n",
    "            \n",
    "            if \"まんがタイムきららキャラット　\" in self.readable_manga_title[j]:\n",
    "                self.readable_manga_title[j] = self.readable_manga_title[j].replace(\"まんがタイムきららキャラット　\",\"\")\n",
    "            \n",
    "            manga_time_kirara_carat.append(tk.Label(self.main_frame,image = self.readable_manga_cover[j],bg = self.bg))\n",
    "            manga_time_kirara_carat_subtitle.append(tk.Button(self.main_frame,text = self.readable_manga_title[j],bg = self.bg,fg = self.fg,font = \"Helvetic 8 bold\",\n",
    "                                                              command = partial(self.download_comic,j)))\n",
    "            \n",
    "            #adjust idx\n",
    "            manga_time_kirara_carat[i].photo = self.readable_manga_cover[j]\n",
    "            \n",
    "            manga_time_kirara_carat[i].grid(row = row_cnt,column = i % 2,sticky = 'news')\n",
    "            manga_time_kirara_carat_subtitle[i].grid(row = row_cnt + 1,column = i % 2,sticky = 'news')\n",
    "            \n",
    "        \n",
    "        #manga_time_kirara_forward : 3 ,(19 ~ 21) for self\n",
    "        \n",
    "        manga_time_kirara_forward_title = tk.Label(self.main_frame,text = \"まんがタイムきららフォワード\",bg = self.bg,fg = self.fg,font = self.ft)\n",
    "        manga_time_kirara_forward_title.grid(row = row_cnt + 2,column = 0,columnspan = 2,sticky = 'news')\n",
    "        \n",
    "        row_cnt += 3\n",
    "        \n",
    "        manga_time_kirara_forward = []\n",
    "        manga_time_kirara_forward_subtitle = []\n",
    "        \n",
    "        for i in range(3):\n",
    "            if i % 2 == 0 and i != 0:\n",
    "                row_cnt += 2\n",
    "            \n",
    "            j = i + 19\n",
    "            \n",
    "            if \"まんがタイムきららフォワード　\" in self.readable_manga_title[j]:\n",
    "                self.readable_manga_title[j] = self.readable_manga_title[j].replace(\"まんがタイムきららフォワード　\",\"\")\n",
    "            \n",
    "            manga_time_kirara_forward.append(tk.Label(self.main_frame,image = self.readable_manga_cover[j],bg = self.bg))\n",
    "            manga_time_kirara_forward_subtitle.append(tk.Button(self.main_frame,text = self.readable_manga_title[j],bg = self.bg,fg = self.fg,font = \"Helvetic 8 bold\",\n",
    "                                                                command = partial(self.download_comic,j)))\n",
    "            \n",
    "            #adjust idx\n",
    "            manga_time_kirara_forward[i].photo = self.readable_manga_cover[j]\n",
    "            \n",
    "            manga_time_kirara_forward[i].grid(row = row_cnt,column = i % 2,sticky = 'news')\n",
    "            manga_time_kirara_forward_subtitle[i].grid(row = row_cnt + 1,column = i % 2,sticky = 'news')\n",
    "            \n",
    "#         self.main_canvas.pack(expand = True,side = 'left',fill = 'both')\n",
    "        self.main_scrollbar.pack(side = 'left',fill = 'y')\n",
    "#         self.main_frame.pack(expand = True,side = 'left',fill = 'both')\n",
    "\n",
    "        print('over')\n",
    "    \n",
    "    \n",
    "    # webdriver\n",
    "    \n",
    "    def check_thread_alive(self,thread):\n",
    "        if thread.is_alive():\n",
    "            self.window.after(20,self.check_thread_alive,thread)\n",
    "        else :\n",
    "            pass\n",
    "\n",
    "    #download comic part\n",
    "    \n",
    "    def make_dir(self,dir_name,num,total_page,text): #add manga type param\n",
    "        title = ['週刊漫画ＴＩＭＥＳ','まんがタイムきらら','まんがタイムきららＭＡＸ'\n",
    "                 ,'まんがタイムきららキャラット','まんがタイムきららフォワード']\n",
    "\n",
    "        filename = \"D:\\Picture\\ComicFuz\\\\\"+ title[num] + \"\\\\\" + dir_name\n",
    "\n",
    "        file_num = [f for f in os.listdir(filename) if isfile(join(filename,f))]\n",
    "\n",
    "        if not os.path.isdir(filename):\n",
    "            print(\"create a folder \" + filename + \" successfully\\n\")\n",
    "            os.makedirs(filename)\n",
    "\n",
    "        elif len(file_num) == total_page:\n",
    "            print('Already downloaded.')\n",
    "#             download = input(\"Already downloaded.\")\n",
    "#             if download != 'Y' and download != 'y':\n",
    "#                 exit()\n",
    "\n",
    "        else :\n",
    "            print('You only download',str(len(file_num)) + '/' + str(total))\n",
    "            download = input('Do you need to download again? [Y/n]')\n",
    "            if download != 'Y' and download != 'y':\n",
    "                exit()\n",
    "\n",
    "        return filename\n",
    "    \n",
    "    #decide which class this manga using\n",
    "    \n",
    "    def first_page_class(self):\n",
    "        #sometimes first page with viewport0\n",
    "        #sometimes with viewport1\n",
    "        try:\n",
    "            element = self.driver.find_element_by_xpath('//*[contains(@class,\"currentScreen\")]')\n",
    "            name = element.get_attribute(\"id\")\n",
    "            if name[-1] == '0':\n",
    "                return 0\n",
    "            else :\n",
    "                return 1\n",
    "        except:\n",
    "            print(\"Something went wrong...\")\n",
    "            return 0\n",
    "    \n",
    "    #wait for comic page loaded\n",
    "    \n",
    "    def comic_page_loaded(self):\n",
    "        try:\n",
    "            print(\"Waiting for page loaded.\\n\")\n",
    "            canvas_xpath = '//*[@id=\"viewport1\"]/canvas'\n",
    "            comic_page = WebDriverWait(driver,15).until(\n",
    "                EC.presence_of_element_located((By.XPATH,canvas_xpath))\n",
    "                #lambda driver : driver.find_element_by_xpath(element_xpath)\n",
    "            )\n",
    "\n",
    "        finally:\n",
    "            print(\"Web is loaded\")\n",
    "    \n",
    "    #change the default(show two page in one screen) to show one page only\n",
    "    \n",
    "    def two_page_to_one(self):\n",
    "        #change two page one screen to one pg one scr\n",
    "\n",
    "        bar_path = '//*[contains(@class,\"hidden twoButton\")]'\n",
    "        wait_bar_dis = WebDriverWait(self.driver,10).until(\n",
    "            EC.presence_of_element_located((By.XPATH,bar_path))\n",
    "        )\n",
    "\n",
    "        ActionChains(driver).click().perform()\n",
    "\n",
    "        self.driver.find_element_by_xpath('/html/body/div[2]/div/div[4]/div[2]/div[3]/button').send_keys(Keys.ENTER)\n",
    "\n",
    "        one_page_btn = self.driver.find_element_by_xpath('/html/body/div[7]/div[3]/div[3]/span/label[1]')\n",
    "        one_page_hover = ActionChains(driver).move_to_element(one_page_btn)\n",
    "        one_page_hover.click().perform()\n",
    "\n",
    "        self.driver.find_element_by_xpath('/html/body/div[2]/div/div[4]/div[2]/div[3]/button').send_keys(Keys.ENTER)\n",
    "        \n",
    "    #move to first page   \n",
    "    \n",
    "    def to_comic_first_page(self):\n",
    "        page_now_ele = self.driver.find_element_by_xpath('/html/body/div[2]/div/div[6]/div/div[2]/div/div[1]/div/div[2]/div')\n",
    "        page_now_str = \"\"\n",
    "        total_page_str = \"\"\n",
    "        chg = 0\n",
    "\n",
    "        for i in page_now_ele.text:\n",
    "            if i == '/':\n",
    "                chg = 1\n",
    "                continue\n",
    "            if chg == 0:    \n",
    "                page_now_str += i\n",
    "            else :\n",
    "                total_page_str += i\n",
    "        \n",
    "        print(\"page_now_str\",page_now_str,type(page_now_str))\n",
    "        page_now = int(page_now_str)\n",
    "        total_page = int(total_page_str)\n",
    "\n",
    "        #print((page_num - 1))\n",
    "\n",
    "        for i in range((page_now - 1)):\n",
    "            time.sleep(0.2)\n",
    "            page_to_first = ActionChains(driver).send_keys(Keys.RIGHT).perform()\n",
    "\n",
    "        print(\"Already to the first page.\\n\")\n",
    "        \n",
    "        return page_num_ele , total_page\n",
    "    \n",
    "    #wait for comic progress bar disappear\n",
    "    \n",
    "    def comic_bar_disappear(self):\n",
    "        try:\n",
    "            print(\"Waiting for bar to disappear.\\n\")\n",
    "            element_xpath = '/html/body/div[2]/div/div[4]'\n",
    "            element = WebDriverWait(self.driver,15).until(\n",
    "                EC.presence_of_element_located((By.XPATH, \"//*[@id='menu']\"))\n",
    "            )\n",
    "            \n",
    "            bar_xpath = '/html/body/div[2]/div/div[6]'\n",
    "            bar = WebDriverWait(self.driver,15).until_not()\n",
    "\n",
    "        finally:\n",
    "            print(\"Already disappear.\")\n",
    "            \n",
    "    #create a new dir for manga        \n",
    "            \n",
    "    def new_dir_name(self):\n",
    "        window_width = self.driver.execute_script(\"return document.documentElement.scrollWidth\")\n",
    "        window_height = self.driver.execute_script(\"return document.documentElement.scrollHeight\")\n",
    "        print(\"Window size :\",window_width,window_height,\"\\n\")\n",
    "\n",
    "        self.driver.set_window_size(window_width,window_height + 550)\n",
    "        time.sleep(1)\n",
    "\n",
    "        st = 0\n",
    "        title = \"\"\n",
    "\n",
    "        for i in range(4,len(url)):\n",
    "            if (url[i] == '%') or st:\n",
    "                if url[i] == '&':\n",
    "                    break\n",
    "                st = 1\n",
    "                title += url[i]\n",
    "        \n",
    "        return unquote(title)\n",
    "        #title = unquote(title)    \n",
    "        \n",
    "    def download_one_page(self,page_cnt,first_page,save_dir):\n",
    "        \n",
    "        loading = self.driver.find_elements_by_xpath('//div[contains(@class,\"loading\") and contains(@style,\"visible\")]')\n",
    "        print(\"\\n\" + page_now_ele.text + \" before :\" + str(len(loading)))\n",
    "\n",
    "        time.sleep(0.3)\n",
    "\n",
    "        save_filename = str(page_cnt) + \".png\"\n",
    "        now_page = page_cnt % 2\n",
    "\n",
    "        try:\n",
    "            #wait for currentscreen loaded\n",
    "            if page_cnt % 2 == first_page:\n",
    "                viewport1_path = self.driver.find_element_by_xpath('//div[contains(@id,\"viewport1\") and contains(@class,\"currentScreen\")]')\n",
    "                print(viewport1_path.get_attribute(\"id\"))\n",
    "                print(viewport1_path.get_attribute(\"class\"))\n",
    "\n",
    "                viewport1_wait = WebDriverWait(self.driver,15).until(\n",
    "                    EC.presence_of_element_located((By.XPATH,'//div[contains(@id,\"viewport1\") and contains(@class,\"currentScreen\")]'))\n",
    "                )\n",
    "            else :\n",
    "                viewport0_path = self.driver.find_element_by_xpath('//div[contains(@id,\"viewport0\") and contains(@class,\"currentScreen\")]')\n",
    "                print(viewport0_path.get_attribute(\"id\"))\n",
    "                print(viewport0_path.get_attribute(\"class\"))\n",
    "\n",
    "                viewport0_wait = WebDriverWait(self.driver,15).until(\n",
    "                    EC.presence_of_element_located((By.XPATH,'//div[contains(@id,\"viewport0\") and contains(@class,\"currentScreen\")]'))\n",
    "                )\n",
    "\n",
    "            time.sleep(0.3)\n",
    "            \n",
    "            #wait for all possible loading disappear\n",
    "            \n",
    "            loading_wait1 = WebDriverWait(self.driver,20).until_not(\n",
    "                EC.visibility_of_element_located((By.XPATH,'/html/body/div[2]/div/div[2]/div[2]/div[2]'))\n",
    "            )\n",
    "            loading_wait2 = WebDriverWait(self.driver,20).until_not(\n",
    "                EC.visibility_of_element_located((By.XPATH,'/html/body/div[2]/div/div[2]/div[2]/div[3]'))\n",
    "            )\n",
    "            loading_wait3 = WebDriverWait(self.driver,20).until_not(\n",
    "                EC.visibility_of_element_located((By.XPATH,'/html/body/div[2]/div/div[2]/div[1]/div[2]'))\n",
    "            )\n",
    "            loading_wait4 = WebDriverWait(self.driver,20).until_not(\n",
    "                EC.visibility_of_element_located((By.XPATH,'/html/body/div[2]/div/div[2]/div[1]/div[3]'))\n",
    "            )\n",
    "\n",
    "            loading = self.driver.find_elements_by_xpath('//div[contains(@class,\"loading\") and contains(@style,\"visible\")]')\n",
    "            \n",
    "            print(page_now_ele.text + \" after :\" + str(len(loading)))\n",
    "            driver.save_screenshot(save_dir + \"\\\\\" + save_filename)\n",
    "            \n",
    "            ActionChains(self.driver).send_keys(Keys.LEFT).perform()\n",
    "\n",
    "        except :\n",
    "            print('Unknown error.')\n",
    "            print('Please try again')\n",
    "            return -1\n",
    "        finally:\n",
    "            print(\"Page : \" + str(page_cnt))\n",
    "            return 1\n",
    "        \n",
    "    def strat_download_comic(self,comic_id):\n",
    "        th = threading.Thread(target = self.download_comic,args = (comic_id,))\n",
    "        th.setDaemon(True)\n",
    "        th.start()\n",
    "        self.window.after(20,self.check_thread_alive,th)\n",
    "    \n",
    "    def download_comic(self,comic_id):\n",
    "        \n",
    "        download_progress_window = tk.Toplevel(self.window,bg = self.bg)\n",
    "        \n",
    "        download_text_var = tk.StringVar()\n",
    "        download_text_var.set(\"Your comic is downloading...\")\n",
    "        download_text = tk.Label(download_progress_window,textvariable = download_text_var,bg = self.bg,fg = self.fg,font = self.ft)\n",
    "        download_text.pack(expand = True,fill = 'x')\n",
    "        \n",
    "        download_progress_bar = ttk.Progressbar(download_progress_window,orient='horizontal',length = 100,mode = 'determinate')\n",
    "        download_progress_bar.pack()\n",
    "        \n",
    "        self.driver.get(self.readable_link_list[comic_id])\n",
    "        \n",
    "        #wait for comic page loaded\n",
    "        \n",
    "        self.comic_page_loaded()\n",
    "\n",
    "        #slide to the first page\n",
    "\n",
    "        page_now_ele , total_page = self.to_comic_first_page()\n",
    "        \n",
    "        piece = 1 / total_page\n",
    "\n",
    "        #wait for page bar disappear\n",
    "\n",
    "        self.comic_bar_disappear()\n",
    "\n",
    "        #try to screenshot    \n",
    "\n",
    "        title = new_dir_name()\n",
    "\n",
    "        save_dir = make_dir(title,comic_code,total_page,download_text_var) #manga title,which category\n",
    "\n",
    "        print(\"Download start at \" + save_dir)\n",
    "        print(title + \" is downloading...\")\n",
    "\n",
    "        #get first page num\n",
    "        first_page = first_page_class()\n",
    "        print(\"first_page : \" + str(first_page))\n",
    "\n",
    "        #set_trace()\n",
    "        page_cnt = 1\n",
    "\n",
    "        while page_cnt <= total_page:\n",
    "            #cls\n",
    "            clear()\n",
    "            page_cnt += download_one_page(page_cnt,first_page,save_dir)\n",
    "            \n",
    "            if page_cnt != total_page:\n",
    "                download_progress_bar['value'] = page_cnt * piece\n",
    "                self.window.update_idletasks()\n",
    "            else :\n",
    "                download_progress_bar['value'] = 100\n",
    "                self.window.update_idletasks()\n",
    "        \n",
    "        clear()\n",
    "        print(\"Download successfully\")\n",
    "        \n",
    "        download_progress_window.destroy()\n",
    "        \n",
    "        #think twice about the return value\n",
    "        return True\n",
    "    \n",
    "    #list comic part\n",
    "    \n",
    "    def add_login_cookie(self):\n",
    "        fc = open('comicFuz.json')\n",
    "        cookie = fc.read()\n",
    "        cookie = json.loads(cookie)\n",
    "\n",
    "        for c in cookie:\n",
    "            if 'expiry' in c:\n",
    "                del c['expiry']\n",
    "            self.driver.add_cookie(c)\n",
    "\n",
    "        self.driver.refresh()\n",
    "        \n",
    "    def start_list_of_readable_manga(self):\n",
    "        \n",
    "        loading_info = tk.Label(self.main_frame,text = \"Next page is loading...\",bg = self.bg,fg = self.fg,font = self.ft,height = 2)\n",
    "        loading_info.place(relx = .47,rely = .4,anchor = 'c')\n",
    "        #progressbar\n",
    "        progress_bar = ttk.Progressbar(self.main_frame,orient='horizontal',length = 100,mode = 'determinate')\n",
    "        progress_bar.place(relx = .47,rely = .5,anchor = 'c')\n",
    "        \n",
    "        progress_bar['value'] = 0\n",
    "        self.window.update_idletasks()\n",
    "        \n",
    "        th = threading.Thread(target = self.list_of_readable_manga,args = (progress_bar,loading_info,))\n",
    "        th.setDaemon(True)\n",
    "        th.start()\n",
    "        self.window.after(20,self.check_thread_alive,th)\n",
    "    \n",
    "    def list_of_readable_manga(self,progress_bar,loading_info):\n",
    "        \n",
    "        piece = 100 / 22\n",
    "        loading = 0\n",
    "        \n",
    "        url = 'https://comic-fuz.com/series/'\n",
    "        \n",
    "        self.driver.get(url)\n",
    "        \n",
    "        self.add_login_cookie()\n",
    "        \n",
    "        #number(id) of cover\n",
    "        cnt = 1\n",
    "        readable_cover_link = []\n",
    "\n",
    "        for series_num in range(1,6):\n",
    "\n",
    "            if url[-1] == '/':\n",
    "                url += str(series_num)\n",
    "            else :\n",
    "                url = url[:len(url) - 1:]\n",
    "                url += str(series_num)\n",
    "\n",
    "            print(url)\n",
    "            self.driver.get(url)\n",
    "\n",
    "            time.sleep(2)\n",
    "\n",
    "            xpath = '//*[contains(@class,\"list\")]'\n",
    "            comic_table = self.driver.find_element_by_xpath(xpath)\n",
    "            #print(comic_table.get_attribute(\"class\"))\n",
    "            comic_list = comic_table.find_elements_by_tag_name(\"li\")\n",
    "\n",
    "            series_cnt = 0\n",
    "\n",
    "            for item in comic_list:\n",
    "                #check which li is it\n",
    "                series_cnt += 1\n",
    "                #check if it is rented\n",
    "                if '読む' in item.text:\n",
    "                    print(cnt,\" : \")\n",
    "                    cnt += 1\n",
    "                    \n",
    "                    if cnt != 23:\n",
    "                        progress_bar['value'] = loading + piece\n",
    "                        loading += piece\n",
    "                        self.window.update_idletasks()\n",
    "                    else :\n",
    "                        progress_bar['value'] = 100\n",
    "                        self.window.update_idletasks()\n",
    "\n",
    "                    title = item.find_element_by_class_name(\"title\")\n",
    "                    self.readable_manga_title.append(title.text)\n",
    "                    print(title.text)\n",
    "\n",
    "                    link_path = '/html/body/main/div/div/div/section/div/ul/li[' + str(series_cnt) + ']/div[2]/div[1]/div/a'\n",
    "                    link = item.find_element_by_xpath(link_path)\n",
    "                    self.readable_link_list.append(link.get_attribute(\"href\"))\n",
    "\n",
    "                    rimg = item.find_element_by_tag_name(\"img\").get_attribute(\"src\")\n",
    "                    readable_cover_link.append(rimg)\n",
    "                    display(iImage(url = rimg,width = 150,height = 215))\n",
    "            \n",
    "            print('finish')\n",
    "        \n",
    "        time.sleep(2)\n",
    "        \n",
    "        progress_bar.destroy()\n",
    "        loading_info.destroy()\n",
    "        #self.loading_frame.destroy()\n",
    "        \n",
    "        self.cover_link_to_image(readable_cover_link)\n",
    "        self.list_all_in_frame()\n",
    "            \n",
    "            \n",
    "window = tk.Tk()\n",
    "window.title('List')\n",
    "window.geometry('500x300')\n",
    "window.resizable(0,0)\n",
    "\n",
    "# chrome_options = Options()\n",
    "# chrome_options.add_argument('headless')\n",
    "# driver = webdriver.Chrome(options = chrome_options)\n",
    "driver = webdriver.Chrome()\n",
    "\n",
    "#setting new icon\n",
    "icon = ImageTk.PhotoImage(file = 'Cover.png')\n",
    "window.tk.call('wm','iconphoto',window._w,icon)\n",
    "print(icon)\n",
    "\n",
    "page = ListComic(window,driver)\n",
    "\n",
    "window.mainloop()"
   ]
  }
 ],
 "metadata": {
  "kernelspec": {
   "display_name": "Python 3",
   "language": "python",
   "name": "python3"
  },
  "language_info": {
   "codemirror_mode": {
    "name": "ipython",
    "version": 3
   },
   "file_extension": ".py",
   "mimetype": "text/x-python",
   "name": "python",
   "nbconvert_exporter": "python",
   "pygments_lexer": "ipython3",
   "version": "3.7.4"
  }
 },
 "nbformat": 4,
 "nbformat_minor": 2
}
