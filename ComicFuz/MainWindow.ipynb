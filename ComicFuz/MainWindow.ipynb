{
 "cells": [
  {
   "cell_type": "code",
   "execution_count": 4,
   "metadata": {},
   "outputs": [],
   "source": [
    "import tkinter as tk\n",
    "from PIL import ImageTk, Image\n",
    "from functools import partial\n",
    "import time\n",
    "\n",
    "class MainWindow:\n",
    "    def __init__(self,window):\n",
    "        self.window = window\n",
    "        self.window.geometry('500x300')\n",
    "        self.window.resizable(0,0)\n",
    "        \n",
    "        #setting new icon\n",
    "        icon = ImageTk.PhotoImage(file = 'Cover.png')\n",
    "        window.tk.call('wm','iconphoto',window._w,icon)\n",
    "        print(icon)\n",
    "        \n",
    "    def set_title(self,name):\n",
    "        self.window.title(name)\n",
    "        print(\"set new title name :\",name)\n",
    "    \n",
    "    def get_window(self):\n",
    "        return self.window\n",
    "    \n",
    "    def run(self):\n",
    "        self.window.mainloop()\n",
    "        \n",
    "# wd = tk.Tk()\n",
    "# window = MainWindow(wd)\n",
    "# print(type(window.get_window()))\n",
    "#window.run()"
   ]
  }
 ],
 "metadata": {
  "kernelspec": {
   "display_name": "Python 3",
   "language": "python",
   "name": "python3"
  },
  "language_info": {
   "codemirror_mode": {
    "name": "ipython",
    "version": 3
   },
   "file_extension": ".py",
   "mimetype": "text/x-python",
   "name": "python",
   "nbconvert_exporter": "python",
   "pygments_lexer": "ipython3",
   "version": "3.7.4"
  }
 },
 "nbformat": 4,
 "nbformat_minor": 2
}
