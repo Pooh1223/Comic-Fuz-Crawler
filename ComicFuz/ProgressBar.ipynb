{
 "cells": [
  {
   "cell_type": "code",
   "execution_count": 3,
   "metadata": {},
   "outputs": [],
   "source": [
    "from tkinter import *\n",
    "from tkinter.ttk import *\n",
    "\n",
    "tk=Tk()\n",
    "progress=Progressbar(tk,orient=HORIZONTAL,length=100,mode='determinate')\n",
    "\n",
    "def bar():\n",
    "    import time\n",
    "    progress['value']=20\n",
    "    tk.update_idletasks()\n",
    "    time.sleep(1)\n",
    "    progress['value']=50\n",
    "    tk.update_idletasks()\n",
    "    time.sleep(1)\n",
    "    progress['value']=80\n",
    "    tk.update_idletasks()\n",
    "    time.sleep(1)\n",
    "    progress['value']=100\n",
    "\n",
    "progress.pack()\n",
    "Button(tk,text='foo',command=bar).pack()\n",
    "mainloop()"
   ]
  }
 ],
 "metadata": {
  "kernelspec": {
   "display_name": "Python 3",
   "language": "python",
   "name": "python3"
  },
  "language_info": {
   "codemirror_mode": {
    "name": "ipython",
    "version": 3
   },
   "file_extension": ".py",
   "mimetype": "text/x-python",
   "name": "python",
   "nbconvert_exporter": "python",
   "pygments_lexer": "ipython3",
   "version": "3.7.4"
  }
 },
 "nbformat": 4,
 "nbformat_minor": 2
}
