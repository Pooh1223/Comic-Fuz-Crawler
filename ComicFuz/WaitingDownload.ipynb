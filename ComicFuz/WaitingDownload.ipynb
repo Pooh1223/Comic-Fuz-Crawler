{
 "cells": [
  {
   "cell_type": "code",
   "execution_count": 1,
   "metadata": {},
   "outputs": [
    {
     "ename": "SyntaxError",
     "evalue": "invalid syntax (<ipython-input-1-ff225320a10f>, line 15)",
     "output_type": "error",
     "traceback": [
      "\u001b[1;36m  File \u001b[1;32m\"<ipython-input-1-ff225320a10f>\"\u001b[1;36m, line \u001b[1;32m15\u001b[0m\n\u001b[1;33m    def\u001b[0m\n\u001b[1;37m        ^\u001b[0m\n\u001b[1;31mSyntaxError\u001b[0m\u001b[1;31m:\u001b[0m invalid syntax\n"
     ]
    }
   ],
   "source": [
    "import tkinter as tk\n",
    "from PIL import ImageTk, Image\n",
    "from functools import partial\n",
    "import time\n",
    "\n",
    "class WaitingDownload:\n",
    "    def __init__(self,window): \n",
    "        self.window = window.get_window()\n",
    "        self.main_frame = tk.Frame(self.window)\n",
    "        self.bg = 'black'\n",
    "        self.fg = 'orange'\n",
    "        self.ft = 'Helvetica 12 bold'\n",
    "        self.downloading()\n",
    "    \n",
    "    def downloading(self):\n",
    "        l = tk.Label()\n",
    "        \n",
    "# window = tk.Tk()\n",
    "# window.title('Login')\n",
    "# window.geometry('500x300')\n",
    "# window.resizable(0,0)\n",
    "\n",
    "# #setting new icon\n",
    "# icon = ImageTk.PhotoImage(file = 'Cover.png')\n",
    "# window.tk.call('wm','iconphoto',window._w,icon)\n",
    "# print(icon)\n",
    "\n",
    "# page = Login(window)\n",
    "\n",
    "# window.mainloop()"
   ]
  }
 ],
 "metadata": {
  "kernelspec": {
   "display_name": "Python 3",
   "language": "python",
   "name": "python3"
  },
  "language_info": {
   "codemirror_mode": {
    "name": "ipython",
    "version": 3
   },
   "file_extension": ".py",
   "mimetype": "text/x-python",
   "name": "python",
   "nbconvert_exporter": "python",
   "pygments_lexer": "ipython3",
   "version": "3.7.4"
  }
 },
 "nbformat": 4,
 "nbformat_minor": 2
}
