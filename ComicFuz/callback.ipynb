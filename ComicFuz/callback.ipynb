{
 "cells": [
  {
   "cell_type": "code",
   "execution_count": 23,
   "metadata": {},
   "outputs": [
    {
     "name": "stdout",
     "output_type": "stream",
     "text": [
      "171\n"
     ]
    }
   ],
   "source": [
    "import os\n",
    "def make_dir(total_page): #add manga type param\n",
    "    title = ['週刊漫画ＴＩＭＥＳ','まんがタイムきらら','まんがタイムきららＭＡＸ'\n",
    "             ,'まんがタイムきららキャラット','まんがタイムきららフォワード']\n",
    "    \n",
    "    #filename = \"D:\\Picture\\ComicFuz\\\\\"+ title[2] + \"\\\\\" + \"まんがタイムきららＭＡＸ　２０２０年１月号\"\n",
    "    \n",
    "    filename = r\"D:\\Picture\\ComicFuz\\まんがタイムきららＭＡＸ\\まんがタイムきららＭＡＸ　２０２０年１月号\"\n",
    "    \n",
    "    page = 1\n",
    "    \n",
    "    # count how many files in manga picture folder\n",
    "    file_num = 0\n",
    "    #if os.path.isdir(filename):\n",
    "    file_num = [f for f in os.listdir(filename) if os.path.isfile(str.join(filename,f))]\n",
    "    \n",
    "    print(file_num)\n",
    "    \n",
    "    if not os.path.isdir(filename):\n",
    "        print(\"create a folder \" + filename + \" successfully\\n\")\n",
    "        os.makedirs(filename)\n",
    "    \n",
    "    elif len(file_num) == total_page:\n",
    "        print('Already downloaded.')\n",
    "#         download = input(\"Already downloaded.\")\n",
    "#         if download != 'Y' and download != 'y':\n",
    "#             exit()\n",
    "    \n",
    "    else :\n",
    "        print('You only download',str(len(file_num)) + '/' + str(total_page))\n",
    "        page = file_num\n",
    "        download = input('Do you need to download again? [Y/n]')\n",
    "        if download != 'Y' and download != 'y':\n",
    "            exit()\n",
    "            \n",
    "\n",
    "            \n",
    "filename = r\"D:\\Picture\\ComicFuz\\まんがタイムきららＭＡＸ\\まんがタイムきららＭＡＸ　２０２０年１月号\" \n",
    "# count how many files in manga picture folder\n",
    "#\n",
    "#if os.path.isdir(filename):\n",
    "file_num = [f for f in os.listdir(filename) if os.path.isfile(filename + \"\\\\\" + f)]\n",
    "\n",
    "# for f in os.listdir(filename):\n",
    "#     print(filename + \"\\\\\" + f)\n",
    "\n",
    "print(len(file_num))"
   ]
  }
 ],
 "metadata": {
  "kernelspec": {
   "display_name": "Python 3",
   "language": "python",
   "name": "python3"
  },
  "language_info": {
   "codemirror_mode": {
    "name": "ipython",
    "version": 3
   },
   "file_extension": ".py",
   "mimetype": "text/x-python",
   "name": "python",
   "nbconvert_exporter": "python",
   "pygments_lexer": "ipython3",
   "version": "3.7.4"
  }
 },
 "nbformat": 4,
 "nbformat_minor": 2
}
