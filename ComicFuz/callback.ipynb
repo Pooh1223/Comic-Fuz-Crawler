{
 "cells": [
  {
   "cell_type": "code",
   "execution_count": 6,
   "metadata": {},
   "outputs": [
    {
     "name": "stdout",
     "output_type": "stream",
     "text": [
      "['２０２０年２／７号', '２０２０年１／３１号', '２０２０年１／２４号']\n"
     ]
    }
   ],
   "source": [
    "import time\n",
    "\n",
    "class jizz:\n",
    "    def __init__(self):\n",
    "        self.ok = False\n",
    "    \n",
    "    def isOk(self):\n",
    "        return self.ok\n",
    "    \n",
    "    def back(self,a,b):\n",
    "        time.sleep(3)\n",
    "        if a == 'qq' and b == 'aaa':\n",
    "            self.ok = True\n",
    "        else :\n",
    "            self.ok = False\n",
    "            \n",
    "l = [\"週刊漫画ＴＩＭＥＳ　２０２０年２／７号\",\"週刊漫画ＴＩＭＥＳ　２０２０年１／３１号\",\"週刊漫画ＴＩＭＥＳ　２０２０年１／２４号\"]\n",
    "\n",
    "for i in range(len(l)):\n",
    "    if \"週刊漫画ＴＩＭＥＳ　\" in l[i]:\n",
    "        l[i] = l[i].replace(\"週刊漫画ＴＩＭＥＳ　\",\"\")\n",
    "        \n",
    "print(l)"
   ]
  }
 ],
 "metadata": {
  "kernelspec": {
   "display_name": "Python 3",
   "language": "python",
   "name": "python3"
  },
  "language_info": {
   "codemirror_mode": {
    "name": "ipython",
    "version": 3
   },
   "file_extension": ".py",
   "mimetype": "text/x-python",
   "name": "python",
   "nbconvert_exporter": "python",
   "pygments_lexer": "ipython3",
   "version": "3.7.4"
  }
 },
 "nbformat": 4,
 "nbformat_minor": 2
}
