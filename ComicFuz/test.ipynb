{
 "cells": [
  {
   "cell_type": "code",
   "execution_count": 1,
   "metadata": {},
   "outputs": [],
   "source": [
    "#tkinter\n",
    "import tkinter as tk\n",
    "import tkinter.ttk as ttk\n",
    "import threading\n",
    "from PIL import ImageTk, Image\n",
    "from functools import partial\n",
    "\n",
    "#selenium\n",
    "from selenium import webdriver\n",
    "from selenium.webdriver.common.keys import Keys\n",
    "from selenium.webdriver.common.by import By\n",
    "from selenium.webdriver.support.ui import WebDriverWait\n",
    "from selenium.webdriver.support import expected_conditions as EC\n",
    "from selenium.webdriver.common.action_chains import ActionChains\n",
    "from selenium.webdriver.chrome.options import Options\n",
    "from urllib.parse import unquote\n",
    "\n",
    "#other\n",
    "import time\n",
    "import json\n",
    "import os\n",
    "import import_ipynb\n",
    "from urllib.request import urlopen\n",
    "from io import BytesIO\n",
    "\n",
    "#show image\n",
    "# from IPython.core.debugger import set_trace\n",
    "# from IPython.display import Image\n",
    "# from IPython.core.display import HTML\n",
    "# from IPython.core.debugger import set_trace\n",
    "# from IPython.display import clear_output as clear\n",
    "\n",
    "\n",
    "window = tk.Tk()\n",
    "window.geometry('500x300')\n",
    "\n",
    "p = 0.2\n",
    "\n",
    "url = 'https://d2x5f4aekiektw.cloudfront.net/fuz/products/thumbnails/20259/original/Z00004-z-012.jpg?1577351770'\n",
    "u = urlopen(url)\n",
    "data = u.read()\n",
    "u.close()\n",
    "\n",
    "im = Image.open(BytesIO(data))\n",
    "pre_w , pre_h = im.size[0],im.size[1]\n",
    "pre_cover = im.resize((int(p * pre_w),int(p * pre_h)),Image.ANTIALIAS)\n",
    "\n",
    "cover = ImageTk.PhotoImage(pre_cover)\n",
    "\n",
    "btn = tk.Button(window,text = 'press',image = cover,command = 'NONE')\n",
    "btn.pack()\n",
    "\n",
    "window.mainloop()"
   ]
  }
 ],
 "metadata": {
  "kernelspec": {
   "display_name": "Python 3",
   "language": "python",
   "name": "python3"
  },
  "language_info": {
   "codemirror_mode": {
    "name": "ipython",
    "version": 3
   },
   "file_extension": ".py",
   "mimetype": "text/x-python",
   "name": "python",
   "nbconvert_exporter": "python",
   "pygments_lexer": "ipython3",
   "version": "3.7.4"
  }
 },
 "nbformat": 4,
 "nbformat_minor": 2
}
