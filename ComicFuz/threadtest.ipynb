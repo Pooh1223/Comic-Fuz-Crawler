{
 "cells": [
  {
   "cell_type": "code",
   "execution_count": 19,
   "metadata": {
    "scrolled": false
   },
   "outputs": [
    {
     "name": "stdout",
     "output_type": "stream",
     "text": [
      "T1 start\n",
      "\n",
      "T1 finish\n",
      "all done\n"
     ]
    }
   ],
   "source": [
    "# use join\n",
    "import threading\n",
    "import time\n",
    "\n",
    "def thread_job():\n",
    "    print('T1 start\\n')\n",
    "    for i in range(10):\n",
    "        time.sleep(0.1)\n",
    "    print('T1 finish')\n",
    "\n",
    "def main():\n",
    "    thread1 = threading.Thread(target=thread_job, name='T1')\n",
    "    thread1.start()\n",
    "    thread1.join()\n",
    "    print('all done')\n",
    "\n",
    "if __name__=='__main__':\n",
    "    main()"
   ]
  }
 ],
 "metadata": {
  "kernelspec": {
   "display_name": "Python 3",
   "language": "python",
   "name": "python3"
  },
  "language_info": {
   "codemirror_mode": {
    "name": "ipython",
    "version": 3
   },
   "file_extension": ".py",
   "mimetype": "text/x-python",
   "name": "python",
   "nbconvert_exporter": "python",
   "pygments_lexer": "ipython3",
   "version": "3.7.4"
  }
 },
 "nbformat": 4,
 "nbformat_minor": 2
}
